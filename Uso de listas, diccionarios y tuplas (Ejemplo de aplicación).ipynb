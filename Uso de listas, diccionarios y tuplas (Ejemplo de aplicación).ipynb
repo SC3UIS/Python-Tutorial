{
 "cells": [
  {
   "cell_type": "markdown",
   "metadata": {},
   "source": [
    "## Estudio de aplicaciones a grupo de investigación\n",
    "\n",
    "**Propósito:** Se pretende estudiar el uso de: conjuntos, listas, tuplas y diccionarios en Python.\n",
    "\n",
    "Usted apoya las labores del grupo de investigación al que pertenece, donde actualmente estan recibiendo candidaturas para nuevos miembros. La información se almacena en un archivo de Word que es actualizado cada vez que se recibe una nueva postulación. Hasta ahora, solo se han recibido 4 postulaciones.\n",
    "\n",
    "Se le solicita apoyo para hacer un estudio preliminar sobre los intereses en común que tienen los postulantes, así como organizar los datos para futuros análisis"
   ]
  },
  {
   "cell_type": "markdown",
   "metadata": {},
   "source": [
    "## Análisis de afinidades\n",
    "\n",
    "A continuación se muestra la información de los cuatro postulantes:\n",
    "\n",
    "* **Dr. Hannah Parker**:\n",
    "    - Topology\n",
    "    - Applied mathematics\n",
    "    - Number theory\n",
    "* **Dr. Tim Neely**:\n",
    "    - Statistics\n",
    "    - Labor economics\n",
    "    - Applied mathematics\n",
    "    - Medieval literature\n",
    "* **Dr. Matt Harford**:\n",
    "    - Software development\n",
    "    - Statistics\n",
    "    - Applied mathematics\n",
    "    - Number theory\n",
    "* **Dr. Mithuna Patel**:\n",
    "    - Quantum mechanics\n",
    "    - General relativity\n",
    "    - Quantum computing\n",
    "    \n",
    "Se creará en primera instancia un objeto de Python para almacenar las preferencias de cada uno de ellos"
   ]
  },
  {
   "cell_type": "code",
   "execution_count": null,
   "metadata": {},
   "outputs": [],
   "source": [
    "hannah_parker_interests = {\"topology\", \"applied mathematics\", \"number theory\"}\n",
    "tim_neely_interests = {\"statistics\", \"labor economics\", \"applied mathematics\", \"medieval literature\"}\n",
    "matt_harford_interests = {\"software development\", \"statistics\", \"applied mathematics\", \"number theory\"}\n",
    "mithuna_patel_interests = {\"quantum mechanics\", \"general relativity\"}"
   ]
  },
  {
   "cell_type": "markdown",
   "metadata": {},
   "source": [
    "Este primer arreglo se conoce como conjunto (set). Tiene como característica que los elementos que lo componen son únicos y estan contenidos entre llaves ({})."
   ]
  },
  {
   "cell_type": "code",
   "execution_count": null,
   "metadata": {},
   "outputs": [],
   "source": [
    "# Intentar agregar un interés ya existente en uno de los conjuntos\n",
    "\n",
    "hannah_parker_interests.add(\"topology\")\n",
    "print(hannah_parker_interests) # Se puede ver como no se agrega ese valor, ya existía !"
   ]
  },
  {
   "cell_type": "code",
   "execution_count": null,
   "metadata": {},
   "outputs": [],
   "source": [
    "mithuna_patel_interests.add(\"quantum computing\")\n",
    "mithuna_patel_interests # Como el valor no existía previamente si se agrega"
   ]
  },
  {
   "cell_type": "markdown",
   "metadata": {},
   "source": [
    "Los Sets son de gran utilidad para comparar colecciones de items a partir de pruebas lógicas. Por ejemplo, si se desea saber cuales interéses tienen en común nuestros académicos, entonces se usa la intersección de conjuntos. En la figura que se muestra la intersección corresponde al área sobreada.\n",
    "\n",
    "<img src=\"data/images/intersection_two.png\" style=\"width: 150px;\" />\n",
    "\n",
    "La intersección de dos conjuntos (sets) en Python se hace con el operador `&`\n",
    "\n",
    "~~~Python\n",
    "A & B\n",
    "~~~\n"
   ]
  },
  {
   "cell_type": "code",
   "execution_count": null,
   "metadata": {},
   "outputs": [],
   "source": [
    "# Intereses compartidos por Matt y Hannah\n",
    "\n",
    "hannah_parker_interests & matt_harford_interests "
   ]
  },
  {
   "cell_type": "markdown",
   "metadata": {},
   "source": [
    "### Ejercicio 1\n",
    "\n",
    "Encuentre los intereses compartidos Dr Tim Neely y Dr Matt Harford. ¿Existe algún interes conjunto para todos los aspirantes?"
   ]
  },
  {
   "cell_type": "markdown",
   "metadata": {},
   "source": [
    "#### Respuesta"
   ]
  },
  {
   "cell_type": "code",
   "execution_count": null,
   "metadata": {},
   "outputs": [],
   "source": [
    "## Intereses entre Tim y Matt\n",
    "\n",
    "tim_neely_interests & matt_harford_interests"
   ]
  },
  {
   "cell_type": "code",
   "execution_count": null,
   "metadata": {},
   "outputs": [],
   "source": [
    "# Intereses conjuntos para los aspirantes\n",
    "hannah_parker_interests & tim_neely_interests & matt_harford_interests & mithuna_patel_interests"
   ]
  },
  {
   "cell_type": "markdown",
   "metadata": {},
   "source": [
    "set( ) es un conjunto vacío, es decir, no hay ningún interés compartido por los aspirantes :(\n",
    "Para hacer más evidente este hecho se hace uso de la función `len( )` para conocer la longitud del conjunto"
   ]
  },
  {
   "cell_type": "code",
   "execution_count": null,
   "metadata": {},
   "outputs": [],
   "source": [
    "intereses = hannah_parker_interests & tim_neely_interests & matt_harford_interests & mithuna_patel_interests\n",
    "print(len(intereses))"
   ]
  },
  {
   "cell_type": "markdown",
   "metadata": {},
   "source": [
    "Los aspirantes a excepción de Mithuna comparten el interés por las matemáticas aplicadas, pero ¿que intereses tiene Mithuana que no tengan los demás? \n",
    "\n",
    "Es posible dar respuesta usando la diferencia de conjuntos, así:"
   ]
  },
  {
   "cell_type": "code",
   "execution_count": null,
   "metadata": {},
   "outputs": [],
   "source": [
    "mithuna_patel_interests - matt_harford_interests # Esto es: Intereses de Mithuna que no tiene Matt"
   ]
  },
  {
   "cell_type": "code",
   "execution_count": null,
   "metadata": {},
   "outputs": [],
   "source": [
    "matt_harford_interests - mithuna_patel_interests # Esto es: Intereses de Matt que no tiene Mithuna"
   ]
  },
  {
   "cell_type": "code",
   "execution_count": null,
   "metadata": {},
   "outputs": [],
   "source": [
    "tim_neely_interests"
   ]
  },
  {
   "cell_type": "markdown",
   "metadata": {},
   "source": [
    "Este hecho es más visible y claro con la siguiente figura:\n",
    "\n",
    "<img src=\"data/images/set_difference_1.png\" style=\"width: 150px;\"/>\n",
    "<img src=\"data/images/set_difference_2.png\" style=\"width: 150px;\"/>\n",
    "\n",
    "Ahora, nosotros sabemos que D Tim Neely está interesado 'labor economics', 'medieval literature', 'statistics', mientras Dr Hannah Parker está ineteresada en teoría de numéros y topología. Luego, existen intereses que no son compartidos por ambos investigadores:\n",
    "\n",
    "* `labor economics`\n",
    "* `medieval literature`\n",
    "* `statistics`\n",
    "* `number theory`\n",
    "* `topology`\n",
    "\n",
    "Esto se llama **Diferencia simétrica** entre dos conjuntos y resulta por la unión de ambas diferencias. En el siguiente diagrama se evidencia este conceptop\n",
    "\n",
    "<img src=\"data/images/symmetric_difference.png\" style=\"width: 150ppx;\"/>\n",
    "\n",
    "En python se usa `^` para determinar esta diferencia simétrica"
   ]
  },
  {
   "cell_type": "code",
   "execution_count": null,
   "metadata": {
    "scrolled": true
   },
   "outputs": [],
   "source": [
    "matt_harford_interests ^ tim_neely_interests # Muestra los elementos que no están en ambos conjuntos"
   ]
  },
  {
   "cell_type": "markdown",
   "metadata": {},
   "source": [
    "Por último, se desearía saber cuales son los intereses de los aspirantes, o en otras palabras, se desea conocer la unión de los conjuntos. La unión indica la inclusión de todos los elementos que están en cualquiera de los conjuntos. Graficamente se representa como:\n",
    "\n",
    "<img src=\"data/images/union.png\" style=\"width: 150ppx;\"/>\n",
    "\n",
    " o en caso de no tener intersecciones\n",
    " \n",
    "<img src=\"data/images/union_disjoint.png\" style=\"width: 150ppx;\"/> \n",
    "\n",
    "A nivel de código se usa el operador `|`"
   ]
  },
  {
   "cell_type": "code",
   "execution_count": null,
   "metadata": {},
   "outputs": [],
   "source": [
    "hannah_parker_interests | tim_neely_interests | matt_harford_interests | mithuna_patel_interests"
   ]
  },
  {
   "cell_type": "markdown",
   "metadata": {},
   "source": [
    "## Detalles de contacto\n",
    "\n",
    "Los aplicantes suministraron información sobre su número de contacto y correos en orden de prioridad, por lo que ahora no es suficiente codificar la información como hasta ahora sino que se hacen uso de **listas**\n",
    "\n",
    "Las listas son creadas de manera similar a los conjuntos, pero teniendo presente una serie de diferencias notables:\n",
    "\n",
    "* Las listas se crean usando el operador `[]`\n",
    "* Se admiten valores repetidos\n",
    "* Se pueden almacenar variables de diferente tipo, incluso otras listas\n",
    "\n",
    "Los detalles de contacto para los cuatro académicos son:\n",
    "\n",
    "* **Dr. Hannah Parker**:\n",
    "    - Phone: +1 978-385-3123, +1 610-684-1514\n",
    "    - Email: hannahp@unk.edu, hannah7897@gmail.com\n",
    "* **Dr. Tim Neely**:\n",
    "    - Phone: +1 503-831-5725, +1 530-832-3841\n",
    "    - Email: tim@mij.edu, neelo@outlook.com\n",
    "* **Dr. Matt Harford**:\n",
    "    - Phone: +44 07872-179187, +44 01279-877139\n",
    "    - Email: statistics@nru.ac.uk, mattharx@yahoo.co.uk\n",
    "* **Dr. Mithuna Patel**:\n",
    "    - Phone: +61 (08)87150531, +61 (08)90881262\n",
    "    - Email: mithuna.patel@nua.edu.au, pattmit66@gmail.com\n",
    " "
   ]
  },
  {
   "cell_type": "code",
   "execution_count": null,
   "metadata": {},
   "outputs": [],
   "source": [
    "# Creación de lista para teléfono de Hannah\n",
    "\n",
    "hannah_parker_phones = [\"+1 978-385-3123\", \"+1 610-684-1514\"]\n",
    "hannah_parker_emails = [\"hannahp@unk.edu\", \"hannah7897@gmail.com\"]\n",
    "hannah_parker_phones"
   ]
  },
  {
   "cell_type": "markdown",
   "metadata": {},
   "source": [
    "Para acceder a los elementos de una lista se recuerda que se puede hacer usando corchetes. La posición empieza a ser contada apartir de 0"
   ]
  },
  {
   "cell_type": "code",
   "execution_count": null,
   "metadata": {},
   "outputs": [],
   "source": [
    "hannah_parker_phones[0] # primera posición"
   ]
  },
  {
   "cell_type": "markdown",
   "metadata": {},
   "source": [
    "### Ejercicio 2\n",
    "\n",
    "Almacene en una lista el contacto para los demás académicos y acceda al segundo número"
   ]
  },
  {
   "cell_type": "code",
   "execution_count": null,
   "metadata": {},
   "outputs": [],
   "source": [
    "tim_neely_phones = [\"+1 503-831-5725\", \"+1 530-832-3841\"]\n",
    "tim_neely_emails = [\"tim@mij.edu\", \"neelo@outlook.com\"]\n",
    "matt_harford_phones = [\"+44 07872-179187\", \"+44 01279-877139\"]\n",
    "matt_harford_emails = [\"statistics@nru.ac.uk\", \"mattharx@yahoo.co.uk\"]\n",
    "mithuna_patel_phones = [\"+61 (08)87150531\", \"+61 (08)90881262\"]\n",
    "mithuna_patel_emails = [\"mithuna.patel@nua.edu.au\", \"pattmit66@gmail.com\"]"
   ]
  },
  {
   "cell_type": "markdown",
   "metadata": {},
   "source": [
    "El siguiente paso consiste en consolidar estas listas en un solo directorio. Para esto, se pueden anidar listas dentro de otras listas, así:"
   ]
  },
  {
   "cell_type": "code",
   "execution_count": null,
   "metadata": {},
   "outputs": [],
   "source": [
    "hannah_parker = [hannah_parker_phones, hannah_parker_emails, hannah_parker_interests]\n",
    "tim_neely = [tim_neely_phones, tim_neely_emails, tim_neely_interests]\n",
    "matt_harford = [matt_harford_phones, matt_harford_emails, matt_harford_interests]\n",
    "mithuna_patel = [mithuna_patel_phones, mithuna_patel_emails, mithuna_patel_interests]\n",
    "\n",
    "# Inspección para hannah_parker\n",
    "hannah_parker"
   ]
  },
  {
   "cell_type": "markdown",
   "metadata": {},
   "source": [
    "Como se puede ver, la información de Hannah está almacenada en una lista compuesta por dos listas y un conjunto para los intereses. "
   ]
  },
  {
   "cell_type": "code",
   "execution_count": null,
   "metadata": {},
   "outputs": [],
   "source": [
    "# Crear un único directorio con la información conjunta\n",
    "\n",
    "directory = [\n",
    "    hannah_parker,\n",
    "    tim_neely,\n",
    "    matt_harford,\n",
    "    mithuna_patel\n",
    "]"
   ]
  },
  {
   "cell_type": "markdown",
   "metadata": {},
   "source": [
    "Se ha creado una única lista para todos los aspirantes, por lo que para acceder a ellos se haría en función de la posición tomada en la lista, de la misma manera que si se quisiera acceder al teléfono, correo o interés. Por ejemplo, para acceder al correo de tim se haría algo así:"
   ]
  },
  {
   "cell_type": "code",
   "execution_count": null,
   "metadata": {},
   "outputs": [],
   "source": [
    "directory[1][1][0] # Primer correo de contacto"
   ]
  },
  {
   "cell_type": "markdown",
   "metadata": {},
   "source": [
    "## Haciendo el directorio más amigable para el usuario\n",
    "\n",
    "El directorio que se ha creado si bien reune la información de todos los aspirante, sin embargo para realizar una consulta se vuelve en algo tedioso y complejo al precisar conocimiento sobre la manera en que se ha organizado la información.\n",
    "\n",
    "Una alternativa para sobrellevar este percance es con el uso de diccionarios. Los diccionarios son un arreglo que incluye el uso de llaves, liberando de la necesidad de conocer la posición de un elemento. Los diccionarios no permiten tener llaves duplicadas, pero si se pueden duplicar los valores asignándolos a diferentes llaves. Los diccionarios son mutables (se pueden modificar) sin necesidad de recrear desde cero el arreglo.\n",
    "\n",
    "Para nuestro caso, un diccionario que resulta útil es:"
   ]
  },
  {
   "cell_type": "code",
   "execution_count": null,
   "metadata": {},
   "outputs": [],
   "source": [
    "directory_dict ={\n",
    "    \"hannah_parker\":{ # La llave es hannah_parker y los valores son otro diccionario\n",
    "        \"phones\":hannah_parker_phones,\n",
    "        \"emails\":hannah_parker_emails,\n",
    "        \"interests\":hannah_parker_interests,\n",
    "    },\n",
    "    \"tim_neely\":{\n",
    "        \"phones\":tim_neely_phones,\n",
    "        \"emails\":tim_neely_emails,\n",
    "        \"interests\":tim_neely_interests,\n",
    "    },\n",
    "    \"matt_harford\":{\n",
    "        \"phones\":matt_harford_phones,\n",
    "        \"emails\":matt_harford_emails,\n",
    "        \"interests\":matt_harford_interests,\n",
    "    },\n",
    "    \"mithuna_patel\":{\n",
    "        \"phones\":mithuna_patel_phones,\n",
    "        \"emails\":mithuna_patel_emails,\n",
    "        \"interests\":mithuna_patel_interests,\n",
    "    },\n",
    "}"
   ]
  },
  {
   "cell_type": "markdown",
   "metadata": {},
   "source": [
    "### Ejercicio 3\n",
    "\n",
    "Acceda en el diccionario a los intereses de Hannah"
   ]
  },
  {
   "cell_type": "code",
   "execution_count": null,
   "metadata": {},
   "outputs": [],
   "source": [
    "directory_dict[\"hannah_parker\"][\"interests\"]"
   ]
  },
  {
   "cell_type": "markdown",
   "metadata": {},
   "source": [
    "## Comentarios finales para conjuntos, listas, diccionarios y tuplas\n",
    "\n",
    "Posiblemente lo visto en este caso es algo superficial para todo lo que abarca el manejo de estructuras de datos en Python. Augunos consejos y funciones a tener en cuenta se muestran a continuación.\n",
    "\n",
    "### Métodos para conjuntos\n",
    "\n",
    "* Inicialización de un conjunto: my_set = {1, 2, 3}\n",
    "* Inicialización de un conjunto vacío: my_set = set()\n",
    "* Unión: A | B\n",
    "* Intersección: A & B\n",
    "* Diferencia simétrica: A ^ B (Valores que no están en ambos conjuntos)\n",
    "* Diferencia: A - B, B - A (Esta operación no es conmutativa)\n",
    "* Prueba de pertenencia (membresía): item in A\n",
    "* Agregar un elemento al conjunto: my_set.add(item)\n",
    "* Eliminar un elemento del conjunto: my_set.remove()\n",
    "* Vaciar el conjunto: my_set.clear()\n",
    "* Conocer el tamaño del conjunto: len(my_set)\n",
    "\n",
    "Los conjuntos tienen como ventaja no permitir valores repetidos, por lo que se pueden utilizar para remover los duplicados de una lista y almacenar el resultado en una nueva lista\n",
    "\n",
    "### Métodos para listas\n",
    "\n",
    "* Las listas se representan mediante corchetes ([])\n",
    "* Inicialización de una lista: my_list = [1, 2, 3]\n",
    "* Inicialización de una lista vacía: my_list = [ ]\n",
    "* Añadir un elemento a una lista: my_list.append(item)\n",
    "* Añadir una lista al final de otra lista: my_list.extend(second_list)\n",
    "* Recuperar un elemento de la lista: my_list[posición]\n",
    "* Recuperar un fragmento de la lista: my_list[posición inicial:posición final]\n",
    "* Remover un elemento basado en el valor: my_list.remove(value) # Remueve el primer elemento con el valor buscado\n",
    "* Remover un valor basado en la posición: del my_list[posición]\n",
    "* Remover y recuperar un valor a la vez de una lista: my_list.pop([posición])\n",
    "* Vaciar una lista: my_list.clear()\n",
    "* Mostrar el índice del primer elemento que tiene un valor dado: my_list.index(value)\n",
    "* Contar el número de veces que un valor está en una lista: my_list.count(value)\n",
    "* Ordenar los valores de la lista: my_list.sort() (En orden descendente se incluye el argumento reverse=True)\n",
    "* Revertir el orden de los elementos en la lista: my_list.reverse()\n",
    "* Obtener una copia de una lista: my_list.copy()\n",
    "* Conocer el tamaño de la lista: len(my_list)\n",
    "* Prueba de pertenencia (membresía): item in A\n",
    "\n",
    "### Métodos para tuplas\n",
    "\n",
    "Las tuplas son arreglos similares a las listas con la particularidad de no poder ser modificadas (inmutables). Su creación se hace usando paréntesis (`( )`)\n",
    "\n",
    "* Creación de una tupla: my_tuple = (1, 2, 3)\n",
    "* Creación de una tupla vacía: my_tuple = ()\n",
    "* Creación de una tupla con un solo valor: my_tuple = (\"Valor\",)    # Detallar que se añade una coma. La coma define la tupla\n",
    "* Recuperar un valor de la tupla: my_tuple[posición]\n",
    "* Recuperar un fragmento de la tupla: my_tuple[posición inicial:posición final] \n",
    "* Repetir múltiples veces una tupla: my_tuple * veces_a_repetir\n",
    "* Conocer el tamaño de la tupla: len(my_tuple)\n",
    "* Prueba de pertenencia (membresía): item in my_tuple\n",
    "* Concatenar dos tuplas: tuple_1 + tuple_2\n",
    "\n",
    "### Métodos para diccionarios\n",
    "\n",
    "Los diccionarios como arreglo de datos tienen la particularidad de asignar claves a valores para facilitar la organización y acceso a elementos específicos. No se permite que se repitan las claves\n",
    "\n",
    "* Creación de un diccionario: {\"key\":value, \"key_2\":value_2}\n",
    "* Acceder a los valores de una clave determinada: my_dict[\"key\"] alternativamente my_dict.get(\"key\")\n",
    "* Eliminar un elemento del diccionario en base a una clave: del my_dict[\"key\"]\n",
    "* Acceder a las claves del diccionario: my_dict.keys() alternativamente list(my_dict())\n",
    "* Remplazar o crear un valor: my_dict[\"key\"] = value\n",
    "* Vaciar un diccionario: my_dict.clear()\n",
    "* Remover y recuperar un valor a la vez de un diccionario: my_dict.pop(\"key\")\n",
    "\n",
    "Para obtener mayor información sobre las estucturas de datos se puede referir a la [documentación](https://docs.python.org/3/tutorial/datastructures.html) de Python."
   ]
  }
 ],
 "metadata": {
  "kernelspec": {
   "display_name": "Python 3",
   "language": "python",
   "name": "python3"
  },
  "language_info": {
   "codemirror_mode": {
    "name": "ipython",
    "version": 3
   },
   "file_extension": ".py",
   "mimetype": "text/x-python",
   "name": "python",
   "nbconvert_exporter": "python",
   "pygments_lexer": "ipython3",
   "version": "3.8.8"
  }
 },
 "nbformat": 4,
 "nbformat_minor": 4
}
