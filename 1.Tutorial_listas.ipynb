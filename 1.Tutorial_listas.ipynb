{
 "cells": [
  {
   "cell_type": "markdown",
   "metadata": {},
   "source": [
    "# 1. Listas"
   ]
  },
  {
   "cell_type": "markdown",
   "metadata": {},
   "source": [
    "Las listas son arreglos empleados para almacenar datos relacionados. Admiten variables numéricas, tipo texto, lógicas e incluso otras listas. \n",
    "\n",
    "Estos arreglos pueden ser modificados y son representados por [ ], aunque también pueden ser mediante texto, el cual es considerado como una lista de caracteres inmutables. \n",
    "\n",
    "No se permiten operaciones aritméticas entre listas"
   ]
  },
  {
   "cell_type": "markdown",
   "metadata": {},
   "source": [
    "### [1. Crear listas](#Cap1)\n",
    "### [2. Acceder a los elementos de una lista](#Cap2)\n",
    "### [3. Modificar una lista](#Cap3)\n",
    "### [4. Funciones con listas](#Cap4)\n",
    "### [5. Tuplas](#Cap5)\n",
    "### [6. Indentación en Python](#Cap6)"
   ]
  },
  {
   "cell_type": "code",
   "execution_count": null,
   "metadata": {},
   "outputs": [],
   "source": [
    "help(list)"
   ]
  },
  {
   "cell_type": "code",
   "execution_count": null,
   "metadata": {},
   "outputs": [],
   "source": [
    "dir(\"a\") # Conocer las funciones disponibles para las variables tipo texto"
   ]
  },
  {
   "cell_type": "markdown",
   "metadata": {},
   "source": [
    "### 1. Crear listas<a class=\"anchor\" id=\"Cap1\"></a>"
   ]
  },
  {
   "cell_type": "markdown",
   "metadata": {},
   "source": [
    "Para la creación de listas se usa el simbolo [ ] en el que se asignan los elementos que van a hacer parte de esta, por ejemplo:"
   ]
  },
  {
   "cell_type": "code",
   "execution_count": null,
   "metadata": {},
   "outputs": [],
   "source": [
    "animales = [\"perro\",\"pato\",\"foca\",\"fara\",\"delfín\"] # Lista de texto\n",
    "numeros = [1,2,3,4,5,6] # Lista de números\n",
    "lista = [1,\"a\",\"b\",[4,5,6]] # Lista combinada\n",
    "\n",
    "print(animales)\n",
    "print(lista)"
   ]
  },
  {
   "cell_type": "markdown",
   "metadata": {},
   "source": [
    "Otra alternativa para la creación de listas es mediante la función list()"
   ]
  },
  {
   "cell_type": "code",
   "execution_count": null,
   "metadata": {},
   "outputs": [],
   "source": [
    "list(\"BUCARAMANGA\") \n",
    "\n",
    "# En este caso se toma cada letra de la palabra y la asigna como un elemento dentro de la lista"
   ]
  },
  {
   "cell_type": "code",
   "execution_count": null,
   "metadata": {},
   "outputs": [],
   "source": [
    "print(type(animales))"
   ]
  },
  {
   "cell_type": "markdown",
   "metadata": {},
   "source": [
    "### 2. Acceder a elementos en una lista<a class=\"anchor\" id=\"Cap2\"></a>\n",
    "\n",
    "Para acceder a los elementos al interior de una lista se usa [ ] como sintáxis, indicando la ubicación del elemento al que se quiere acceder. Se resalta que en python los índices inician desde 0"
   ]
  },
  {
   "cell_type": "code",
   "execution_count": null,
   "metadata": {},
   "outputs": [],
   "source": [
    "# Antes de acceder a un elemento es bueno conocer la longitud de la lista, para ello se usa la función len()\n",
    "\n",
    "print(animales)\n",
    "print(len(animales))"
   ]
  },
  {
   "cell_type": "code",
   "execution_count": null,
   "metadata": {},
   "outputs": [],
   "source": [
    "# Conocer la posición de un término en específico\n",
    "\n",
    "animales.index(\"fara\")"
   ]
  },
  {
   "cell_type": "code",
   "execution_count": null,
   "metadata": {},
   "outputs": [],
   "source": [
    "# Localizar el primer elemento de la lista\n",
    "\n",
    "animales[0]"
   ]
  },
  {
   "cell_type": "code",
   "execution_count": null,
   "metadata": {},
   "outputs": [],
   "source": [
    "# Localizar el último elemento dentro de la lista\n",
    "\n",
    "animales[-1]"
   ]
  },
  {
   "cell_type": "markdown",
   "metadata": {},
   "source": [
    "En el caso de tener que acceder a múltiples elementos consecutivos se agrega el simbolo \" : \" [inicio : fin], donde el último valor no es tomado en cuenta"
   ]
  },
  {
   "cell_type": "code",
   "execution_count": null,
   "metadata": {},
   "outputs": [],
   "source": [
    "# Localizar múltiples elementos (consecutivos)\n",
    "\n",
    "animales[0:3] # Regresa los elementos 0, 1 y 2 sin tener en cuenta el 3"
   ]
  },
  {
   "cell_type": "code",
   "execution_count": null,
   "metadata": {},
   "outputs": [],
   "source": [
    "# Localizar los últimos elementos de la lista\n",
    "\n",
    "animales[-2:]"
   ]
  },
  {
   "cell_type": "markdown",
   "metadata": {},
   "source": [
    "### 3. Modificar las listas<a class=\"anchor\" id=\"Cap3\"></a>"
   ]
  },
  {
   "cell_type": "markdown",
   "metadata": {},
   "source": [
    "Para la modificación de un elemento dentro de una lista es preciso indicar la posición y el nuevo valor que se quiere asignar, así:"
   ]
  },
  {
   "cell_type": "code",
   "execution_count": null,
   "metadata": {},
   "outputs": [],
   "source": [
    "# Modificar el 4 elemento de la lista\n",
    "\n",
    "animales[4] = \"tortuga\" \n",
    "print(animales)"
   ]
  },
  {
   "cell_type": "code",
   "execution_count": null,
   "metadata": {},
   "outputs": [],
   "source": [
    "# Modificar los dos primero elementos de la lista\n",
    "\n",
    "animales[:2] = [\"hipopótamo\",\"serpiente\"] # La longitud de lo nuevo elementos debe ser igaul a la que se sustituye\n",
    "print(animales)"
   ]
  },
  {
   "cell_type": "code",
   "execution_count": null,
   "metadata": {},
   "outputs": [],
   "source": [
    "# Agregar elementos a la lista\n",
    "\n",
    "animales.append(\"ballena\")\n",
    "print(animales)"
   ]
  },
  {
   "cell_type": "code",
   "execution_count": null,
   "metadata": {},
   "outputs": [],
   "source": [
    "# Agregar una lista a una lista\n",
    "\n",
    "animales.extend([\"gato\",\"conejo\"])\n",
    "print(animales)"
   ]
  },
  {
   "cell_type": "markdown",
   "metadata": {},
   "source": [
    "### 4. Funciones con listas<a class=\"anchor\" id=\"Cap4\"></a>"
   ]
  },
  {
   "cell_type": "code",
   "execution_count": null,
   "metadata": {},
   "outputs": [],
   "source": [
    "# Ordenar los elementos de la lista. Función sort\n",
    "\n",
    "print(sorted(animales))"
   ]
  },
  {
   "cell_type": "code",
   "execution_count": null,
   "metadata": {},
   "outputs": [],
   "source": [
    "# Sumar los elementos de la lista\n",
    "\n",
    "print(numeros)\n",
    "print(sum(numeros))"
   ]
  },
  {
   "cell_type": "code",
   "execution_count": null,
   "metadata": {},
   "outputs": [],
   "source": [
    "# Adicionar elementos a una lista\n",
    "\n",
    "animales.append(\"cabra\") # Adicionar un elemento a una lista\n",
    "animales.extend([\"gato\",\"delfín\"]) # Adicionar otra lista a una lista\n",
    "print(animales)"
   ]
  },
  {
   "cell_type": "code",
   "execution_count": null,
   "metadata": {},
   "outputs": [],
   "source": [
    "# Eliminar elementos de una lista\n",
    "\n",
    "print(numeros.pop()) # Regresa el elemento que fue eliminado, elimina el último valor\n",
    "del(animales[0]) # Elimina la variable especificada, pero no regresa el valor(es) eliminados"
   ]
  },
  {
   "cell_type": "code",
   "execution_count": null,
   "metadata": {},
   "outputs": [],
   "source": [
    "a = [1,2,3,4,5]\n",
    "b = a\n",
    "\n",
    "b[2] = 15\n",
    "\n",
    "id(a),id(b)"
   ]
  },
  {
   "cell_type": "markdown",
   "metadata": {},
   "source": [
    "### 5. TUPLAS <a class=\"anchor\" id=\"Cap5\"></a>"
   ]
  },
  {
   "cell_type": "markdown",
   "metadata": {},
   "source": [
    "Las tuplas son arreglo similares a las listas, pero con dos diferencias:\n",
    "\n",
    "1. Se emplea paréntesis para su creación o la función tuple()\n",
    "2. Son inmutables"
   ]
  },
  {
   "cell_type": "code",
   "execution_count": null,
   "metadata": {},
   "outputs": [],
   "source": [
    "# Crear una tupla\n",
    "\n",
    "t = (1,2,3,4)\n",
    "\n",
    "print(t)\n",
    "print(type(t))"
   ]
  },
  {
   "cell_type": "code",
   "execution_count": null,
   "metadata": {},
   "outputs": [],
   "source": [
    "print(t[0])\n",
    "\n",
    "t[0] = 2"
   ]
  },
  {
   "cell_type": "code",
   "execution_count": null,
   "metadata": {},
   "outputs": [],
   "source": [
    "x = 0.25\n",
    "numerador,denominador = x.as_integer_ratio()\n",
    "\n",
    "print(\"numerador\",numerador,\"\\n\",\"denominador\",denominador)"
   ]
  },
  {
   "cell_type": "markdown",
   "metadata": {},
   "source": [
    "### 6. Indentación en Python<a class=\"anchor\" id=\"Cap6\"></a>"
   ]
  },
  {
   "cell_type": "markdown",
   "metadata": {},
   "source": [
    "La indentación facilita la identificación de los fragmentos de código anidados en una estructura if, while o for. Es equivalente a cuatro espacios o un tabulador, recomendando enfáticamente utilizar solo uno de estos estilos.\n",
    "\n",
    "En otros lenguajes se utilizan estrategias como el punto y coma, y los corchetes.\n",
    "\n",
    "![indent](data/images/indent.png)"
   ]
  },
  {
   "cell_type": "markdown",
   "metadata": {},
   "source": [
    "### Estructura for"
   ]
  },
  {
   "cell_type": "markdown",
   "metadata": {},
   "source": [
    "Permite la iteración sobre toda una estructura de datos"
   ]
  },
  {
   "cell_type": "code",
   "execution_count": null,
   "metadata": {},
   "outputs": [],
   "source": [
    "# Usando la lista previamente creada para animales\n",
    "\n",
    "print(animales)"
   ]
  },
  {
   "cell_type": "code",
   "execution_count": null,
   "metadata": {},
   "outputs": [],
   "source": [
    "for i in animales:\n",
    "    x = i.upper()    # Convierte los caracteres en mayúscula\n",
    "    print(x)"
   ]
  },
  {
   "cell_type": "code",
   "execution_count": null,
   "metadata": {},
   "outputs": [],
   "source": [
    "# Eliminar valores específicos dentro de una lista, en este caso los números impares\n",
    "a=[]\n",
    "numeros = [2,3,4,54,34,23,12,48]\n",
    "\n",
    "for i in numeros:\n",
    "    if i%2==0:       \n",
    "        a.append(numeros.pop(numeros.index(i)))\n",
    "a"
   ]
  },
  {
   "cell_type": "code",
   "execution_count": null,
   "metadata": {},
   "outputs": [],
   "source": [
    "# La función range crea un rango de valores en un intervalo determinado. range(stop)\n",
    "# Imprimir los números del 0 al 2\n",
    "\n",
    "for i in range(3):\n",
    "    for j in range(3):\n",
    "        print(i,j)\n",
    "    print(\"Imprime para el bucle i, pero no para el j\")"
   ]
  },
  {
   "cell_type": "code",
   "execution_count": null,
   "metadata": {},
   "outputs": [],
   "source": [
    "# Imprime los números del 10 al 100, en pasos de 16. range(star,stop,step)\n",
    "\n",
    "for i in range(10, 101, 16):\n",
    "    print(i)"
   ]
  },
  {
   "cell_type": "markdown",
   "metadata": {},
   "source": [
    "### Estructura if"
   ]
  },
  {
   "cell_type": "code",
   "execution_count": null,
   "metadata": {},
   "outputs": [],
   "source": [
    "x = [5,5,6,7]\n",
    "\n",
    "if 4 in x:\n",
    "    print(\"Hay un número cuatro\")\n",
    "else:\n",
    "    print(\"No hay un número cuatro\")"
   ]
  },
  {
   "cell_type": "code",
   "execution_count": null,
   "metadata": {},
   "outputs": [],
   "source": [
    "# Determinar si un número es primo. Uso de if y for\n",
    "\n",
    "numero=int(input(\"Ingrese un numero:\"))\n",
    "\n",
    "if numero > 1:\n",
    "    for i in range(2,numero):\n",
    "        if numero%i == 0:\n",
    "            print(\"No es primo\")\n",
    "            break               # Break termina el bucle cuando no se cumle una condicion\n",
    "    else:\n",
    "        print(\"Es primo\")"
   ]
  },
  {
   "cell_type": "markdown",
   "metadata": {},
   "source": [
    "### Estructura while"
   ]
  },
  {
   "cell_type": "markdown",
   "metadata": {},
   "source": [
    "Repetir un bloque de código mientras una condición se cumpla. Es importante evitar bucle infinitos, de lo contrario es necesario interrumpir el kernel"
   ]
  },
  {
   "cell_type": "code",
   "execution_count": null,
   "metadata": {},
   "outputs": [],
   "source": [
    "a = 1\n",
    "prod = []\n",
    "\n",
    "while(a < 1000):\n",
    "    prod.append(a)\n",
    "    a = 2*a\n",
    "    print(a)\n",
    "    \n",
    "print(prod)"
   ]
  },
  {
   "cell_type": "code",
   "execution_count": null,
   "metadata": {},
   "outputs": [],
   "source": [
    "# Creación de una función para que regrese los primeros x números primos\n",
    "\n",
    "def is_prime(x):\n",
    "    if x<2:\n",
    "        return False\n",
    "    else:\n",
    "        for i in range(2,x-1):\n",
    "            if x%i==0:\n",
    "                return False\n",
    "        return True\n",
    "\n",
    "x=int(input(\"Ingrese el número de valores primos que desea:\"))\n",
    "primos=[]\n",
    "contador=0\n",
    "s=1\n",
    "while(contador<x):\n",
    "    if is_prime(s):\n",
    "        primos.append(s)\n",
    "        contador+=1\n",
    "    s+=1\n",
    "print(primos)"
   ]
  },
  {
   "cell_type": "markdown",
   "metadata": {},
   "source": [
    "### Ejercicios\n",
    "\n",
    "    a. Crear una lista con los planetas del sistema solar\n",
    "    b. Imprimir los tres primeros planetas y los dos últimos\n",
    "    c. Ordenar la lista de planetas\n",
    "    d. Modificar el planeta Tierra por TIERRA  \n",
    "    e. ¿Cuál es la longitud de las siguientes listas?\n",
    "\n",
    "            a = [1, 2, 3]\n",
    "            b = [1, [2, 3]]\n",
    "            c = []\n",
    "            d = [1, 2, 3][1:]\n",
    "            \n",
    "    f. ¿Qué sucede si se intenta añadir una lista a otra lista usando la función append?\n",
    "    g. Cree un loop para que regrese cada una de las letras de Universidad\n",
    "    h. Escriba un script que imprima los números del 1 al 100, pero...\n",
    "    \n",
    "     - para los múltiplos de 3 imprima Fizz en lugar del número\n",
    "     - para los múltiplos de 5 imprima Buzz en lugar del número\n",
    "     - para números que son múltiplos de 3 y 5 imprima FizzBuzz\n",
    "     - los demás números deben imprimir normalmente"
   ]
  }
 ],
 "metadata": {
  "kernelspec": {
   "display_name": "Python 3",
   "language": "python",
   "name": "python3"
  },
  "language_info": {
   "codemirror_mode": {
    "name": "ipython",
    "version": 3
   },
   "file_extension": ".py",
   "mimetype": "text/x-python",
   "name": "python",
   "nbconvert_exporter": "python",
   "pygments_lexer": "ipython3",
   "version": "3.8.5"
  }
 },
 "nbformat": 4,
 "nbformat_minor": 2
}
