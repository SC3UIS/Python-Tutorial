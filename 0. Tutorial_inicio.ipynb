{
 "cells": [
  {
   "cell_type": "markdown",
   "metadata": {},
   "source": [
    "# Tutorial de inicio"
   ]
  },
  {
   "cell_type": "markdown",
   "metadata": {},
   "source": [
    "### [1. Documentación en python](#Cap1)\n",
    "### [2. Tipos de variables](#Cap2)\n",
    "### [3. Operadores](#Cap3)"
   ]
  },
  {
   "cell_type": "markdown",
   "metadata": {},
   "source": [
    "## ¿Qué son los notebooks de <a href=\"http://jupyter.org/\">Jupyter</a> ?\n",
    "\n",
    "Son una aplicación web  open source que permite crear documentos con código, texto enriquecido y visualizaciones. Ideal para crear y compartir documentos que contienen ecuaciones, texto y código (Python, R, Ruby, Sage, Haskell, Go, Spark ..)  Permiten que  el trabajo sea reproducible y más interactivo. \n",
    "\n",
    "Ventajas \n",
    "\n",
    "- Elige el lenguaje.\n",
    "- Fácil de compartir.\n",
    "- Widgets interactivos.\n",
    "- Se pueden poner ecuaciones en una celda de tipo Markdown como esta \n",
    "\n",
    "$$\\int_0^\\infty e^{-x^2} dx=\\frac{\\sqrt{\\pi}}{2}$$\n"
   ]
  },
  {
   "cell_type": "markdown",
   "metadata": {},
   "source": [
    "## 1. Documentación en python <a class=\"anchor\" id=\"Cap1\"></a>"
   ]
  },
  {
   "cell_type": "markdown",
   "metadata": {},
   "source": [
    "Para acceder a la documentación de python y obtener ayuda sobre los diferentes módulos o funciones se hace uso del simbolo de interrogación (?). De esta manera se accederá a una introducción y revisión de las características de Ipython"
   ]
  },
  {
   "cell_type": "code",
   "execution_count": null,
   "metadata": {},
   "outputs": [],
   "source": [
    "?"
   ]
  },
  {
   "cell_type": "markdown",
   "metadata": {},
   "source": [
    "Con el comando help() se accede al sistema de ayuda propio de Python"
   ]
  },
  {
   "cell_type": "code",
   "execution_count": null,
   "metadata": {
    "scrolled": false
   },
   "outputs": [],
   "source": [
    "help()"
   ]
  },
  {
   "cell_type": "markdown",
   "metadata": {},
   "source": [
    "En jupyter se cuenta con funciones \"mágicas\" que proporcionan una serie de funciones que permiten tener control sobre el comportamiento de Ipython, por ejemplo, el tiempo de ejecución de una línea o una celda. Las funciones \"mágicas\" tienen como prefijo el simbolo % o %% para celdas \"mágicas\""
   ]
  },
  {
   "cell_type": "code",
   "execution_count": null,
   "metadata": {},
   "outputs": [],
   "source": [
    "%magic"
   ]
  },
  {
   "cell_type": "code",
   "execution_count": null,
   "metadata": {},
   "outputs": [],
   "source": [
    "%quickref"
   ]
  },
  {
   "cell_type": "markdown",
   "metadata": {},
   "source": [
    "## 2. Variables y tipos<a class=\"anchor\" id=\"Cap2\"></a>"
   ]
  },
  {
   "cell_type": "markdown",
   "metadata": {},
   "source": [
    "En python se distinguen 3 tipo de variables: numéricas (int,float), tipo texto(str) y lógicas (bool). Al ser un lenguaje de programación dinámicamente tipado se reconoce de manera automática el tipo de variable sin necesidad de definirla de manera explícita.\n",
    "\n",
    "* La asignación de variables se hace con el operador =\n",
    "* Los nombres de variables no pueden comenzar con números o contener espacios"
   ]
  },
  {
   "cell_type": "markdown",
   "metadata": {},
   "source": [
    "###    2.1 Numéricas (enteros, reales y complejos)"
   ]
  },
  {
   "cell_type": "code",
   "execution_count": null,
   "metadata": {},
   "outputs": [],
   "source": [
    "a=15\n",
    "print(a)\n",
    "print(b)"
   ]
  },
  {
   "cell_type": "code",
   "execution_count": 1,
   "metadata": {},
   "outputs": [
    {
     "name": "stdout",
     "output_type": "stream",
     "text": [
      "5\n",
      "6.5\n",
      "(1+5j)\n"
     ]
    }
   ],
   "source": [
    "a= 5\n",
    "b= 6.5\n",
    "c = 1 + 5j\n",
    "\n",
    "# Para imprimir una variable se usa la función print()\n",
    "\n",
    "print(a)\n",
    "print(b)\n",
    "print(c)"
   ]
  },
  {
   "cell_type": "code",
   "execution_count": null,
   "metadata": {},
   "outputs": [],
   "source": [
    "print(type(a))"
   ]
  },
  {
   "cell_type": "code",
   "execution_count": 2,
   "metadata": {},
   "outputs": [
    {
     "name": "stdout",
     "output_type": "stream",
     "text": [
      "<class 'int'> <class 'float'> <class 'complex'>\n"
     ]
    }
   ],
   "source": [
    "# Para conocer el tipo de la variable se usa la función type()\n",
    "\n",
    "print(type(a),type(b), type(c))"
   ]
  },
  {
   "cell_type": "markdown",
   "metadata": {},
   "source": [
    "###    2.2 Texto"
   ]
  },
  {
   "cell_type": "markdown",
   "metadata": {},
   "source": [
    "En la creación de las variables tipo texto se deben emplear las comillas para indicar que es considerado como texto, de lo contratio se genera un error al esperar una variable"
   ]
  },
  {
   "cell_type": "code",
   "execution_count": null,
   "metadata": {},
   "outputs": [],
   "source": [
    "Str = Hola"
   ]
  },
  {
   "cell_type": "code",
   "execution_count": null,
   "metadata": {},
   "outputs": [],
   "source": [
    "Str = \"Hola mundo!\"\n",
    "print(Str)"
   ]
  },
  {
   "cell_type": "code",
   "execution_count": null,
   "metadata": {},
   "outputs": [],
   "source": [
    "Nombre= input(\"Ingrese su nombre: \")\n",
    "print(\"Bienvenido \"+ Nombre+\"!\")"
   ]
  },
  {
   "cell_type": "code",
   "execution_count": null,
   "metadata": {},
   "outputs": [],
   "source": [
    "type(Nombre)"
   ]
  },
  {
   "cell_type": "markdown",
   "metadata": {},
   "source": [
    "###    2.3 Booleanas"
   ]
  },
  {
   "cell_type": "code",
   "execution_count": null,
   "metadata": {},
   "outputs": [],
   "source": [
    "a= True\n",
    "b= 34>29\n",
    "\n",
    "print(b)"
   ]
  },
  {
   "cell_type": "code",
   "execution_count": null,
   "metadata": {},
   "outputs": [],
   "source": [
    "type(b)"
   ]
  },
  {
   "cell_type": "markdown",
   "metadata": {},
   "source": [
    "Para nombrar las variables se pueden asignar nombres libremente, sin embargo, no pueden empezar con valores numéricos o utilizar palabras reservadas (33 palabras), como:\n",
    "\n",
    "\\begin{array}{|c|c|} \\hline\n",
    "and &del &from &None &True \\\\ \\hline\n",
    "as &elif &global &nonlocal &try \\\\ \\hline\n",
    "assert &else &if &not &while \\\\ \\hline\n",
    "break &except &import &or &with \\\\ \\hline\n",
    "class &False &in &pass &yield \\\\ \\hline\n",
    "continue &finally &is &raise \\\\ \\hline\n",
    "def &for &lambda &return \\\\ \\hline\n",
    "\\end{array}"
   ]
  },
  {
   "cell_type": "markdown",
   "metadata": {},
   "source": [
    "## 3. Operadores <a class=\"anchor\" id=\"Cap3\"></a>"
   ]
  },
  {
   "cell_type": "markdown",
   "metadata": {},
   "source": [
    "Respecto a los operadores se distinguen tres tipos: \n",
    "* aritméticos: +,  -,  /,  %\n",
    "* booleano: and, or, not\n",
    "* comparación: ==, <=, >=, !=\n",
    "\n",
    "Para utilizar los operadores aritméticos los valores deben ser del mismo tipo, es decir, se suma texto con texto o número con número, en el caso de los tipo bool el valor de True es igual a 1 y False a 0"
   ]
  },
  {
   "cell_type": "code",
   "execution_count": null,
   "metadata": {},
   "outputs": [],
   "source": [
    "help(\"+\") # Obtener ayuda sobre los operadores"
   ]
  },
  {
   "cell_type": "code",
   "execution_count": 3,
   "metadata": {},
   "outputs": [
    {
     "name": "stdout",
     "output_type": "stream",
     "text": [
      "Buen día\n",
      "1\n",
      "2\n",
      "125\n"
     ]
    }
   ],
   "source": [
    "# Operadores artitméticos\n",
    "\n",
    "nombre = \"Buen\"+ \" \" +\"día\"\n",
    "print(nombre)\n",
    "\n",
    "print(5//3) # Realiza la aproximación al entero menor\n",
    "print(5%3)  # Modulo de la división\n",
    "print(5**3) # Potenciación"
   ]
  },
  {
   "cell_type": "code",
   "execution_count": null,
   "metadata": {},
   "outputs": [],
   "source": [
    "# Operadores lógicos y de comparación\n",
    "\n",
    "s=15==12\n",
    "a= 45==45 and 13>9\n",
    "b= 15!=12 or 12>9\n",
    "c= 15 not in [12,14,16]\n",
    "\n",
    "print(a)\n",
    "print(b)\n",
    "print(c)"
   ]
  },
  {
   "cell_type": "markdown",
   "metadata": {},
   "source": [
    "Para python el orden de las operaciones sigue la convención matemática (PEMDAS)\n",
    "\n",
    "1. Paréntesis\n",
    "2. Potenciación (Exponentiation)\n",
    "3. Multiplicación y división\n",
    "4. Suma y resta\n",
    "\n",
    "Operadores con la misma presedencia son evaluados de izquierda a derecha"
   ]
  },
  {
   "cell_type": "code",
   "execution_count": null,
   "metadata": {},
   "outputs": [],
   "source": [
    "5-2*5-1"
   ]
  },
  {
   "cell_type": "code",
   "execution_count": null,
   "metadata": {},
   "outputs": [],
   "source": [
    "(5-2)*5-1"
   ]
  },
  {
   "cell_type": "code",
   "execution_count": null,
   "metadata": {},
   "outputs": [],
   "source": [
    "5-2*(5-1)"
   ]
  },
  {
   "cell_type": "markdown",
   "metadata": {},
   "source": [
    "## Ejercicios\n",
    "\n",
    "a. Cree un notebook y responda a cada uno de los siguientes items en celdas independientes.\n",
    "\n",
    "b. Cree una variable de cada tipo e imprima su tipo\n",
    "\n",
    "c. A que se debe el error cuando se generea la siguiente variable\n",
    "    \n",
    "    var = \"UIS\" + 205\n",
    "    \n",
    "d. Ubique los paréntesis de tal manera que la operación sea igual a \"0\" \n",
    "\n",
    "        8 - 3* 2 - 1 + 1\n",
    "    \n",
    "e. ¿Cuál es el valor de la siguiente expresión?\n",
    "     # 7------3"
   ]
  }
 ],
 "metadata": {
  "kernelspec": {
   "display_name": "Python 3",
   "language": "python",
   "name": "python3"
  },
  "language_info": {
   "codemirror_mode": {
    "name": "ipython",
    "version": 3
   },
   "file_extension": ".py",
   "mimetype": "text/x-python",
   "name": "python",
   "nbconvert_exporter": "python",
   "pygments_lexer": "ipython3",
   "version": "3.8.8"
  }
 },
 "nbformat": 4,
 "nbformat_minor": 2
}
