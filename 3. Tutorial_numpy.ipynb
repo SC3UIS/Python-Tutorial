{
 "cells": [
  {
   "cell_type": "markdown",
   "metadata": {},
   "source": [
    "<img src=\"data/images/numpy.png\" style=\"width: 400px;\"/>"
   ]
  },
  {
   "cell_type": "markdown",
   "metadata": {},
   "source": [
    "Numpy es un paquete/librería de computación científica. Permite el trabajo con arreglos vectoriales, matriciales y funciones para cálculos matemáticos, además de operaciones de algebra lineal, transformadas de Fourier y generación de valores aleatorios. Para mayor información ir a: **[Numpy](https://docs.scipy.org/doc/numpy/user/quickstart.html)**"
   ]
  },
  {
   "cell_type": "markdown",
   "metadata": {},
   "source": [
    "En este notebook se abordarán temas como:\n",
    "\n",
    "### [1. Crear arreglos (arrays) utilizando NumPy](#Cap1)\n",
    "\n",
    "### [2. Información de los arreglos](#Cap2)\n",
    "\n",
    "### [3. Acceder y modificar elementos en un arreglo](#Cap3)\n",
    "\n",
    "### [4. Acceder a sub arreglos](#Cap4)\n",
    "\n",
    "### [5. Partición de datos](#Cap5)\n",
    "\n",
    "### [6. Operaciones con arreglos](#Cap6)\n",
    "\n",
    "### [7. Operaciones booleanas](#Cap7)\n",
    "\n",
    "### [8. Ordenar arreglos](#Cap8)"
   ]
  },
  {
   "cell_type": "code",
   "execution_count": null,
   "metadata": {},
   "outputs": [],
   "source": [
    "import numpy as np"
   ]
  },
  {
   "cell_type": "markdown",
   "metadata": {},
   "source": [
    "## ¿Por que usar arrays\"\n",
    "\n",
    "**Motivo: Eficiencia**\n",
    "\n",
    "1. Vectorización. Ejecutar bucles resulta sumamente costoso\n",
    "2. Los bucles son ejecutados en Python, mientras que la vectorización lo hace en C\n",
    "3. Las operaciones entre arrays se hacen elemento a elemento"
   ]
  },
  {
   "cell_type": "markdown",
   "metadata": {},
   "source": [
    "### Ejemplo\n",
    "\n",
    "Sumar dos matrices elemento por elemto y almacenar el resultado en otra matriz"
   ]
  },
  {
   "cell_type": "code",
   "execution_count": null,
   "metadata": {},
   "outputs": [],
   "source": [
    "# Se crean tres matrices, dos con valores aleatorios y una con valores vacíos\n",
    "\n",
    "A = np.random.randint(0,10,size=(10,10))\n",
    "B = np.random.randint(0,10,size=(10,10))\n",
    "\n",
    "c = np.empty([10,10])"
   ]
  },
  {
   "cell_type": "code",
   "execution_count": null,
   "metadata": {},
   "outputs": [],
   "source": [
    "%%timeit\n",
    "\n",
    "# Utilizando bucles\n",
    "\n",
    "for i in range(10):\n",
    "    for j in range(10):\n",
    "        c[i,j] = A[i,j] + B[i,j]\n",
    "        "
   ]
  },
  {
   "cell_type": "code",
   "execution_count": null,
   "metadata": {},
   "outputs": [],
   "source": [
    "%%timeit\n",
    "\n",
    "# Utilizando NumPy\n",
    "\n",
    "d = A + B"
   ]
  },
  {
   "cell_type": "markdown",
   "metadata": {},
   "source": [
    "###  1. Crear arreglos (arrays) utilizando NumPy<a class=\"anchor\" id='Cap1'></a>"
   ]
  },
  {
   "cell_type": "code",
   "execution_count": null,
   "metadata": {},
   "outputs": [],
   "source": [
    "np?"
   ]
  },
  {
   "cell_type": "markdown",
   "metadata": {},
   "source": [
    "Los arrays son arreglos de datos en diferentes dimensiones, similares a las listas pero más eficientes, por lo que la manipulación de datos en python es sinónimo de manipulación en Numpy, incluso en el uso de otras herramientas como Pandas\n",
    "\n",
    "Estos arreglos deben tener el mismo tipo de dato para realizar las operaciones entre ellos y para su creación"
   ]
  },
  {
   "cell_type": "markdown",
   "metadata": {},
   "source": [
    "<img src=\"data/images/array.png\" style=\"width: 600px;\"/>"
   ]
  },
  {
   "cell_type": "code",
   "execution_count": null,
   "metadata": {},
   "outputs": [],
   "source": [
    "# Crear un vector o array de 1 dimensión\n",
    "\n",
    "a = np.array([12,32,34,32,22,15], dtype=float)\n",
    "\n",
    "# Crear una matriz o array de 2 dimensiones\n",
    "\n",
    "b = np.array([[12,13,54],[12,32,1],[21,3,4]])\n",
    "\n",
    "# Crear arreglo tridimensional\n",
    "\n",
    "c = np.array([[[1, 9], [9, 5], [1, 5]],\n",
    "              [[9, 3], [7, 2], [3, 3]],\n",
    "              [[8, 8], [7, 3], [6, 2]],\n",
    "              [[9, 1], [8, 7], [4, 7]]])\n",
    "\n",
    "print( a.shape, b.shape, c.shape)"
   ]
  },
  {
   "cell_type": "code",
   "execution_count": null,
   "metadata": {},
   "outputs": [],
   "source": [
    "# Qué sucede si se crea un array con diferentes tipos de variables\n",
    "\n",
    "c = np.array([\"1\",2,3,4.5])\n",
    "print(c) # Numpy modifica el tipo de la variable para que todas sean iguales (respecto al tipo)"
   ]
  },
  {
   "cell_type": "markdown",
   "metadata": {},
   "source": [
    "## Funciones para crear arrays"
   ]
  },
  {
   "cell_type": "markdown",
   "metadata": {},
   "source": [
    "Para crear algunos arreglos específicos NumPy cuenta con funciones pre definidas"
   ]
  },
  {
   "cell_type": "code",
   "execution_count": null,
   "metadata": {},
   "outputs": [],
   "source": [
    "# Separación equidistante\n",
    "\n",
    "print(np.arange(0,20))\n",
    "\n",
    "# Crear un arreglo entre dos valores (0,20) tomando cierto tamaño de \"paso\" (2)\n",
    "\n",
    "print(np.arange(0,20,2))"
   ]
  },
  {
   "cell_type": "code",
   "execution_count": null,
   "metadata": {},
   "outputs": [],
   "source": [
    "# Arreglo especificando la cantidad de elementos. \n",
    "\n",
    "print(np.linspace(0,20,50)) # Se crean 50 números del 0 al 20"
   ]
  },
  {
   "cell_type": "markdown",
   "metadata": {},
   "source": [
    "### Arreglos comunes"
   ]
  },
  {
   "cell_type": "code",
   "execution_count": null,
   "metadata": {},
   "outputs": [],
   "source": [
    "# Crear un array de 0\n",
    "print(np.zeros(10,dtype=\"int\"))"
   ]
  },
  {
   "cell_type": "code",
   "execution_count": null,
   "metadata": {},
   "outputs": [],
   "source": [
    "# Crear una matriz de 1\n",
    "\n",
    "print(np.ones((3,4),dtype=\"float\"))"
   ]
  },
  {
   "cell_type": "code",
   "execution_count": null,
   "metadata": {},
   "outputs": [],
   "source": [
    "# Crear una matriz con un valor cualquiera (i.e 14.8)\n",
    "\n",
    "print(np.full((2,3),14.8,dtype=\"float\"))"
   ]
  },
  {
   "cell_type": "code",
   "execution_count": null,
   "metadata": {},
   "outputs": [],
   "source": [
    "# Crear una matriz identidad\n",
    "\n",
    "print(np.eye(4))"
   ]
  },
  {
   "cell_type": "markdown",
   "metadata": {},
   "source": [
    "### Números aleatorios"
   ]
  },
  {
   "cell_type": "code",
   "execution_count": null,
   "metadata": {},
   "outputs": [],
   "source": [
    "# Crear una matriz de valores aleatorios\n",
    "\n",
    "print(np.random.rand(5,5)) # Número de filas y número de columnas"
   ]
  },
  {
   "cell_type": "code",
   "execution_count": null,
   "metadata": {},
   "outputs": [],
   "source": [
    "# Arreglo de enteros aleatorios\n",
    "\n",
    "print(np.random.randint(0,10, size=(4,4)))"
   ]
  },
  {
   "cell_type": "code",
   "execution_count": null,
   "metadata": {},
   "outputs": [],
   "source": [
    "# También se pueden generar valores que sigan una determinada distribución de probabilidad\n",
    "\n",
    "print(np.random.normal(size=10)) # Normal de Media 0 y Varianza 1\n",
    "print(np.random.poisson(size=10)) # Poisson con parámetro lambda de 1"
   ]
  },
  {
   "cell_type": "markdown",
   "metadata": {},
   "source": [
    "### 2. Información de los arreglos<a class=\"anchor\" id='Cap2'></a>"
   ]
  },
  {
   "cell_type": "code",
   "execution_count": null,
   "metadata": {},
   "outputs": [],
   "source": [
    "np.random.seed(0) # Asignar y mantener fija la semilla en el generador de valores aleatorios\n",
    "\n",
    "x = np.random.randint(10,size=(3,4))\n",
    "print(x)"
   ]
  },
  {
   "cell_type": "markdown",
   "metadata": {},
   "source": [
    "Para conocer las características de los arreglos como dimensiones, forma y tamaño se utilizan los siguientes métodos:"
   ]
  },
  {
   "cell_type": "code",
   "execution_count": null,
   "metadata": {},
   "outputs": [],
   "source": [
    "# Dimensiones (ndim)\n",
    "\n",
    "print(x.ndim)"
   ]
  },
  {
   "cell_type": "code",
   "execution_count": null,
   "metadata": {},
   "outputs": [],
   "source": [
    "# Forma\n",
    "\n",
    "print(x.shape)"
   ]
  },
  {
   "cell_type": "code",
   "execution_count": null,
   "metadata": {},
   "outputs": [],
   "source": [
    "# Tamaño\n",
    "\n",
    "print(x.size)"
   ]
  },
  {
   "cell_type": "markdown",
   "metadata": {},
   "source": [
    "### 3. Acceder y modificar elementos en los arreglos<a class=\"anchor\" id='Cap3'></a>"
   ]
  },
  {
   "cell_type": "markdown",
   "metadata": {},
   "source": [
    "El acceso y modificación de un elemento en un array se hace de manera similar a las listas, es decir, usando [fila,columna]"
   ]
  },
  {
   "cell_type": "code",
   "execution_count": null,
   "metadata": {},
   "outputs": [],
   "source": [
    "# Acceder al primer elemento\n",
    "\n",
    "print(\"Primer elemento: \",x[0])"
   ]
  },
  {
   "cell_type": "code",
   "execution_count": null,
   "metadata": {},
   "outputs": [],
   "source": [
    "# Acceder al último elemento\n",
    "\n",
    "print(\"Último elemento: \",x[-1])"
   ]
  },
  {
   "cell_type": "code",
   "execution_count": null,
   "metadata": {},
   "outputs": [],
   "source": [
    "# Acceder a cualquier elemento (e.g tercer elemento de la primera fila)\n",
    "\n",
    "print(x[0,3])"
   ]
  },
  {
   "cell_type": "code",
   "execution_count": null,
   "metadata": {},
   "outputs": [],
   "source": [
    "# Modificar un elemento \n",
    "\n",
    "x[1]=3.16 # Modificar todos los elementos de la fila 1\n",
    "print(x)"
   ]
  },
  {
   "cell_type": "markdown",
   "metadata": {},
   "source": [
    "### 4. Acceder a sub-arreglos<a class=\"anchor\" id='Cap4'></a>"
   ]
  },
  {
   "cell_type": "markdown",
   "metadata": {},
   "source": [
    "Al igual que en las listas, para acceder a porciones o sub-arreglos se usa la notación:\n",
    "\n",
    "x[comienzo:final:paso]"
   ]
  },
  {
   "cell_type": "code",
   "execution_count": null,
   "metadata": {},
   "outputs": [],
   "source": [
    "# Arreglo unidimensional\n",
    "\n",
    "x1=[12,7,34,5,6,78]\n",
    "print(x1)\n",
    "print(x1[:2]) # No toma el último valor"
   ]
  },
  {
   "cell_type": "code",
   "execution_count": null,
   "metadata": {},
   "outputs": [],
   "source": [
    "# Dos últimos elementos\n",
    "\n",
    "print(x1[-2:])"
   ]
  },
  {
   "cell_type": "code",
   "execution_count": null,
   "metadata": {},
   "outputs": [],
   "source": [
    "# Elementos cada dos observaciones\n",
    "\n",
    "print(x1[::2] )"
   ]
  },
  {
   "cell_type": "code",
   "execution_count": null,
   "metadata": {},
   "outputs": [],
   "source": [
    "# Arreglo multidimensional\n",
    "\n",
    "x = np.random.randint(0,10,size=(5,5))\n",
    "print(x)"
   ]
  },
  {
   "cell_type": "code",
   "execution_count": null,
   "metadata": {},
   "outputs": [],
   "source": [
    "# Primera columna\n",
    "\n",
    "print(x[:,0]) # Toma todas las filas (:) y solo la primera columna (0)"
   ]
  },
  {
   "cell_type": "code",
   "execution_count": null,
   "metadata": {},
   "outputs": [],
   "source": [
    "# Primeras dos filas y tres columnas\n",
    "\n",
    "print(x[:2,:3])"
   ]
  },
  {
   "cell_type": "code",
   "execution_count": null,
   "metadata": {},
   "outputs": [],
   "source": [
    "# Todas las filas y columnas intercaladas\n",
    "print(x[:,::2])"
   ]
  },
  {
   "cell_type": "code",
   "execution_count": null,
   "metadata": {},
   "outputs": [],
   "source": [
    "import matplotlib.pyplot as plt"
   ]
  },
  {
   "cell_type": "code",
   "execution_count": null,
   "metadata": {},
   "outputs": [],
   "source": [
    "# Construir un tablero de ajedrez\n",
    "n = np.zeros(shape=(8,8))\n",
    "n[::2,1::2] = 1\n",
    "n[1::2,::2] = 1\n",
    "plt.imshow(n)\n",
    "plt.show()"
   ]
  },
  {
   "cell_type": "markdown",
   "metadata": {},
   "source": [
    "### 5. Particionar los datos<a class=\"anchor\" id='Cap5'></a>"
   ]
  },
  {
   "cell_type": "markdown",
   "metadata": {},
   "source": [
    "En algunos casos es preciso modificar la forma de un array, por lo que la función reshape resulta util para esta tarea"
   ]
  },
  {
   "cell_type": "code",
   "execution_count": null,
   "metadata": {},
   "outputs": [],
   "source": [
    "grid = np.arange(16) # Se crea un array unidimensional con 16 elementos\n",
    "grid = grid.reshape((4,4)) # Se modifica a una matriz de 4x4\n",
    "print(grid)"
   ]
  },
  {
   "cell_type": "code",
   "execution_count": null,
   "metadata": {},
   "outputs": [],
   "source": [
    "# Partición vertical en dos de un arreglo (de forma equitativa)\n",
    "upper, lower = np.vsplit(grid,2) \n",
    "print(upper)\n",
    "print(lower)"
   ]
  },
  {
   "cell_type": "code",
   "execution_count": null,
   "metadata": {},
   "outputs": [],
   "source": [
    "# Partición horizontal en dos de un arreglo (de forma equitativa)\n",
    "\n",
    "left,right = np.hsplit(grid,[2])\n",
    "print(\"\\n\",left)\n",
    "print(right)"
   ]
  },
  {
   "cell_type": "markdown",
   "metadata": {},
   "source": [
    "### 6. Operaciones con los arreglos<a class=\"anchor\" id='Cap6'></a>"
   ]
  },
  {
   "cell_type": "markdown",
   "metadata": {},
   "source": [
    "* Funciones aritméticas"
   ]
  },
  {
   "cell_type": "markdown",
   "metadata": {},
   "source": [
    "En la siguiente tabla se enlistan los operadores aritméticos implementados en NumPy:\n",
    "\n",
    "| Operador\t    | Equivalente ufunc | Descripción                           |\n",
    "|---------------|-------------------|---------------------------------------|\n",
    "|``+``          |``np.add``         |Suma (e.g., ``1 + 1 = 2``)             |\n",
    "|``-``          |``np.subtract``    |Resta (e.g., ``3 - 2 = 1``)            |\n",
    "|``-``          |``np.negative``    |Negativo unitario (e.g., ``-2``)       |\n",
    "|``*``          |``np.multiply``    |Multiplicación (e.g., ``2 * 3 = 6``)   |\n",
    "|``/``          |``np.divide``      |División (e.g., ``3 / 2 = 1.5``)       |\n",
    "|``//``         |``np.floor_divide``|División inferior (e.g., ``3 // 2 = 1``)|\n",
    "|``**``         |``np.power``       |Potenciación (e.g., ``2 ** 3 = 8``)    |\n",
    "|``%``          |``np.mod``         |Módulo/residuo (e.g., ``9 % 4 = 1``)   |\n"
   ]
  },
  {
   "cell_type": "code",
   "execution_count": null,
   "metadata": {},
   "outputs": [],
   "source": [
    "%timeit sum(x1)"
   ]
  },
  {
   "cell_type": "code",
   "execution_count": null,
   "metadata": {},
   "outputs": [],
   "source": [
    "%timeit np.array(x).sum()"
   ]
  },
  {
   "cell_type": "code",
   "execution_count": null,
   "metadata": {},
   "outputs": [],
   "source": [
    "print(grid,\"\\n\")\n",
    "print(np.floor_divide(grid,3)) # Aproximación al entero inferior"
   ]
  },
  {
   "cell_type": "markdown",
   "metadata": {},
   "source": [
    "* Funciones trigonométricas"
   ]
  },
  {
   "cell_type": "code",
   "execution_count": null,
   "metadata": {},
   "outputs": [],
   "source": [
    "theta=np.linspace(0,np.pi,3)\n",
    "print(theta)\n",
    "print(\"\\n Seno(theta):\",np.sin(theta))\n",
    "print(\"\\n Coseno(theta):\",np.cos(theta))\n",
    "print(\"\\n Tangente(theta):\",np.tan(theta))"
   ]
  },
  {
   "cell_type": "markdown",
   "metadata": {},
   "source": [
    "* Funciones logarítmicas y exponenciales"
   ]
  },
  {
   "cell_type": "code",
   "execution_count": null,
   "metadata": {},
   "outputs": [],
   "source": [
    "# Funciones exponenciales\n",
    "x = [1, 2, 3]\n",
    "print(\"x:   \", x)\n",
    "print(\"x^3: \", np.power(x,3))\n",
    "print(\"e^x: \", np.exp(x))\n",
    "print(\"2^x: \", np.exp2(x))\n",
    "print(\"3^x: \", np.power(3, x))"
   ]
  },
  {
   "cell_type": "code",
   "execution_count": null,
   "metadata": {},
   "outputs": [],
   "source": [
    "# Funciones logarítmicas\n",
    "x = [1, 2, 4, 10]\n",
    "print(\"x        :\", x)\n",
    "print(\"ln(x)    :\", np.log(x))\n",
    "print(\"log2(x)  :\", np.log2(x))\n",
    "print(\"log10(x) :\", np.log10(x))"
   ]
  },
  {
   "cell_type": "markdown",
   "metadata": {},
   "source": [
    "* Otras funciones"
   ]
  },
  {
   "cell_type": "code",
   "execution_count": null,
   "metadata": {},
   "outputs": [],
   "source": [
    "print(x,\"\\n\")\n",
    "print(np.multiply.reduce(x))     # Reducir el arreglo a una sola operación. Regresa el producto de todos los elementos\n",
    "print(np.multiply.accumulate(x)) # Multiplica todos los elementos y almacena los productos intermedios"
   ]
  },
  {
   "cell_type": "markdown",
   "metadata": {},
   "source": [
    "Para la multiplicación de matrices se usa la función np.dot(), en el caso de querer multiplicar elemento por elemento se acude a \" * \""
   ]
  },
  {
   "cell_type": "code",
   "execution_count": null,
   "metadata": {},
   "outputs": [],
   "source": [
    "# Para el producto de las matrices se debe cumplir que las dimensiones sean: (mxn)*(nxp)=mxp\n",
    "\n",
    "a=np.random.rand(4,5) # Matriz de 4x5\n",
    "b=np.random.randint(0,5,size=[5,3]) # Matríz de 5x3\n",
    "n=a.dot(b)\n",
    "print(n)"
   ]
  },
  {
   "cell_type": "code",
   "execution_count": null,
   "metadata": {},
   "outputs": [],
   "source": [
    "# La función transpose regresa la transupuesta de una matriz\n",
    "\n",
    "trans=a.transpose()\n",
    "print(\"Transpuesta de la matriz: \\n\\n\",trans)"
   ]
  },
  {
   "cell_type": "code",
   "execution_count": null,
   "metadata": {},
   "outputs": [],
   "source": [
    "# Inversa de una matriz. Es preciso acudir al modulo de álgebra lineal (linalg)\n",
    "\n",
    "matriz=np.random.randint(4,100,[4,4])\n",
    "inv=np.linalg.inv(matriz)\n",
    "print(matriz,\"\\n\")\n",
    "print(inv,\"\\n\") # Matriz inversa\n",
    "print(matriz.dot(inv)) # Matriz identidad"
   ]
  },
  {
   "cell_type": "code",
   "execution_count": null,
   "metadata": {},
   "outputs": [],
   "source": [
    "# Determinante de una matriz\n",
    "\n",
    "np.linalg.det(matriz)"
   ]
  },
  {
   "cell_type": "code",
   "execution_count": null,
   "metadata": {},
   "outputs": [],
   "source": [
    "# La función flatten transforma un arreglo n-dimensional en uno uni dimensional\n",
    "\n",
    "uni=a.flatten()\n",
    "print(uni,\"\\n\",uni.shape)"
   ]
  },
  {
   "cell_type": "markdown",
   "metadata": {},
   "source": [
    "### 7. Operaciones booleanas<a class=\"anchor\" id='Cap7'></a>"
   ]
  },
  {
   "cell_type": "code",
   "execution_count": null,
   "metadata": {},
   "outputs": [],
   "source": [
    "x = np.random.randint(low=0,high=10,size=(4,2))\n",
    "x"
   ]
  },
  {
   "cell_type": "code",
   "execution_count": null,
   "metadata": {},
   "outputs": [],
   "source": [
    "# Para comparar elementos de un arreglo se hace uso de los operadores booleanos\n",
    "\n",
    "print(x>4) # Como salida se obtiene el arreglo del mismo tamaño, pero con valores de true cuando se cumple la condición"
   ]
  },
  {
   "cell_type": "code",
   "execution_count": null,
   "metadata": {},
   "outputs": [],
   "source": [
    "# Los valores de True son iguales a 1, para contar cuantos valores cumplen con una condición se hace uso de count_nonzero()\n",
    "\n",
    "print(np.count_nonzero(x>5),\"valores son mayores a 5\")\n",
    "print(np.count_nonzero(~(x>=5)),\"valores no son mayores a 5\")\n",
    "print(np.count_nonzero((x>5)&(x<8)),\"valores son mayores a 5 y menores a 8\")\n",
    "print(np.count_nonzero((x>5)|(x<8)),\"valores son mayores a 5 o menores a 8\")"
   ]
  },
  {
   "cell_type": "code",
   "execution_count": null,
   "metadata": {},
   "outputs": [],
   "source": [
    "# Para seleccionar un subconjuto de datos que cumpla una condición se crea una \"máscara\"\n",
    "\n",
    "mask = x>6\n",
    "print(\"Los valores mayores 6 son:\", x[mask])"
   ]
  },
  {
   "cell_type": "markdown",
   "metadata": {},
   "source": [
    "Los operadores and y or no son equivalentes a & y |, dado que los primeros toman una única entidad para realizar las comparaciones, mientras que los segundos lo hacen elemento por elemento"
   ]
  },
  {
   "cell_type": "markdown",
   "metadata": {},
   "source": [
    "### 8. Ordenar los arreglos<a class=\"anchor\" id='Cap8'></a>"
   ]
  },
  {
   "cell_type": "markdown",
   "metadata": {},
   "source": [
    "Para ordenar los arreglos en NumPy se pueden usar bucles, sin embargo resulta más eficiente utilizar las funciones con las que se cuenta como sort() o argsort"
   ]
  },
  {
   "cell_type": "code",
   "execution_count": null,
   "metadata": {},
   "outputs": [],
   "source": [
    "x = np.random.randint(0,20,10)\n",
    "x"
   ]
  },
  {
   "cell_type": "code",
   "execution_count": null,
   "metadata": {},
   "outputs": [],
   "source": [
    "# Ordenar los valores de menor a mayor\n",
    "print(np.sort(x))\n",
    "\n",
    "# Ordenar de menor a mayor, pero regresando los índicies de los valores ordenados\n",
    "print(np.argsort(x))"
   ]
  },
  {
   "cell_type": "code",
   "execution_count": null,
   "metadata": {},
   "outputs": [],
   "source": [
    "z = np.random.randint(0,10,(4,6))\n",
    "z"
   ]
  },
  {
   "cell_type": "code",
   "execution_count": null,
   "metadata": {},
   "outputs": [],
   "source": [
    "# Ordenar las columnas\n",
    "print(np.sort(z,axis=0))\n",
    "\n",
    "# Ordenar las filas\n",
    "print(\"\\n\",np.sort(z,axis=1))"
   ]
  },
  {
   "cell_type": "markdown",
   "metadata": {},
   "source": [
    "## Broadcasting"
   ]
  },
  {
   "cell_type": "markdown",
   "metadata": {},
   "source": [
    "<img src=\"data/images/broadcasting.png\" style=\"width: 600px;\"/>"
   ]
  },
  {
   "cell_type": "markdown",
   "metadata": {},
   "source": [
    "### Ejercicio"
   ]
  },
  {
   "cell_type": "markdown",
   "metadata": {},
   "source": [
    "\n",
    "1) Cree un arreglo unidimensional con los siguientes valores:\n",
    "\n",
    "    46, 5, 19, 47, 22, 45, 11, 11, 33, 7, 26, 48, 7, 47, 32, 36, 18, 23, 21, 2\n",
    "    \n",
    "    - ¿Cuál es su tamaño, dimensión y forma?\n",
    "\n",
    "2) Convierta el arreglo anterior en una matriz de 6x3, ¿Es posible?, de no ser así proponga una forma que sí lo permita.\n",
    "\n",
    "3) ¿Cuál es el valor de la posición (2,3)? Cambie su valor por 8\n",
    "\n",
    "4) De la matriz extraiga la primera y última fila y cree dos variables nuevas. ¿Cuál es el valor de su suma?\n",
    "\n",
    "5) Cree una matriz de enteros de tamaño 20 y ordene sus valores \n",
    "\n",
    "6) Considere el siguiente arreglo de estaturas para un grupo de person:\n",
    "\n",
    "    - [189, 170, 189, 163, 183, 171, 185, 168, 173, 183, 173, 173, 175,\n",
    "       178, 183, 193, 178, 173, 174, 183, 183, 168, 170, 178, 182, 180,\n",
    "       183, 178, 182, 188, 175, 179, 183, 193, 182, 183, 177, 185, 188,\n",
    "       188, 182, 185]\n",
    "       \n",
    "    - Calcule el promedio, desviación estándar, máximo y mínimo\n",
    "    \n",
    "7) Cree una matriz aleatoria 5x5 de enteros entre (100, 200). y halle el valor máximo en cada columna.\n",
    "\n",
    "8) Reste la media de esta matriz y divida por la desviación estandar. ¿Qué sucedió?"
   ]
  }
 ],
 "metadata": {
  "kernelspec": {
   "display_name": "Python 3",
   "language": "python",
   "name": "python3"
  },
  "language_info": {
   "codemirror_mode": {
    "name": "ipython",
    "version": 3
   },
   "file_extension": ".py",
   "mimetype": "text/x-python",
   "name": "python",
   "nbconvert_exporter": "python",
   "pygments_lexer": "ipython3",
   "version": "3.8.5"
  }
 },
 "nbformat": 4,
 "nbformat_minor": 2
}
