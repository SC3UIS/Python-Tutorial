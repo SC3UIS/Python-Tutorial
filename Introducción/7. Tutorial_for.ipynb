{
 "cells": [
  {
   "cell_type": "markdown",
   "metadata": {},
   "source": [
    "## ¿Cuántos casos de COVID19 hay en los estados de US?\n",
    "\n",
    "**Propósito:** En este notebook se aprenderá y profundizará sobre el uso de bucles for y como leer y escribir textos planos en Python.\n",
    "\n",
    "Como analistas de datos se desea conocer cuantos casos confirmados de COVID han habido entre el 22 de Enero de 2020 y el 8 de Febrero de 2021 para cada estado en Estados Unidos, y guardar el resultado en un archivo de texto. También se necesita saber cuántos casos acumulados han habido en todo el país.\n",
    "\n",
    "Los datos se encuentran en un archivo llamado confirmed, el cuál tiene 52 subcarpetas al interior, una carpeta por cada estado + 2 territorios. Dentro de cada subcarpeta, hay archivos por cada condado. Esos archivos cuentan con 385 filas (cantidad de días analizados)\n",
    "\n",
    "Esos dato representan casos acumulados confirmados de COVID-19, eso significa que, los números reportados no solamente son para las personas enfermas ese día, sino que también cuantos han sido contagiados desde Enero 22, incluyendo aquellos que se han recuperado, no recuperado o han tenido el virus más de una vez."
   ]
  },
  {
   "cell_type": "markdown",
   "metadata": {},
   "source": [
    "## Madison, Indiana\n",
    "\n",
    "Para leer un archivo en Python se usa el método open() y el argumento r (read) para leerlo. Para obtener una lista de todas las filas, se usa `.readlines()`.\n",
    "\n",
    "**Nota:** A través de este caso se truncaran algunas salidas para hacer más legible el notebook"
   ]
  },
  {
   "cell_type": "code",
   "execution_count": 1,
   "metadata": {},
   "outputs": [
    {
     "data": {
      "text/plain": [
       "['0\\n',\n",
       " '0\\n',\n",
       " '0\\n',\n",
       " '0\\n',\n",
       " '0\\n',\n",
       " '0\\n',\n",
       " '0\\n',\n",
       " '0\\n',\n",
       " '0\\n',\n",
       " '0\\n',\n",
       " '0\\n',\n",
       " '0\\n',\n",
       " '0\\n',\n",
       " '0\\n',\n",
       " '0\\n']"
      ]
     },
     "execution_count": 1,
     "metadata": {},
     "output_type": "execute_result"
    }
   ],
   "source": [
    "file = open(\"data/confirmed/Indiana/Madison.csv\", \"r\")\n",
    "madison_indiana = file.readlines()\n",
    "madison_indiana[0:15] # La lista tiene 385 filas, por lo que se filtra y se muestran solo las primeras 15"
   ]
  },
  {
   "cell_type": "markdown",
   "metadata": {},
   "source": [
    "Cada fila es una cadena de texto que contiene la cantidad de casos confirmados y el carácter `\\n`, que indica nueva línea. Se desea transformar esta lista en una de valores enteros. Para hacer esto posible se hara lo siguiente:\n",
    "\n",
    "1. Iterar a través de cada valor en la lista\n",
    "2. Extraer el número\n",
    "3. Almacenar el número en una nueva lista\n",
    "\n",
    "Hacer estas tareas es posible mediante un bucle `for` que itere sobre cada valor, o que realice una tarea repetitiva. La sintáxis es la siguiente\n",
    "\n",
    "~~~python\n",
    "for item in secuencia:\n",
    "    <hacer algo>  # Se puede incluir el nombre de la variable \"item\"\n",
    "~~~\n",
    "\n",
    "Secuencia puede ser una lista, tupla, diccionario, array o cadena de caractéres (en este caso itera sobre cada carácter). En el bucle de arriba \"hacer algo\" para cada item de la secuencia, por lo que si tiene 10 elementos la secuencia, entonces se repetirá 10 veces la tarea."
   ]
  },
  {
   "cell_type": "markdown",
   "metadata": {},
   "source": [
    "## Cómo escribir un bucle for\n",
    "\n",
    "1. El primer paso sería iterar sobre cada elemento de la lista:\n",
    "\n",
    "~~~Python\n",
    "for row in madison_indiana:\n",
    "~~~\n",
    "\n",
    "2. El segundo paso es declarar la tarea, que bien en este caso sería extraer el número, así:\n",
    "\n",
    "~~~Python\n",
    "row = row.replace(\"\\n\", \"\") # Eliminar el salto de línea\n",
    "number = int(row) # Convertir la fila a entero\n",
    "~~~\n",
    "\n",
    "Estas dos líneas se podrían generalizar y mejor incluir en una función:\n",
    "\n",
    "~~~python\n",
    "def extract_number(some_text):\n",
    "    some_text = some_text.replace(\"\\n\", \"\") # Eliminar el salto de línea\n",
    "    number = int(some_text) # Convertir la fila a entero\n",
    "    return number\n",
    "~~~\n",
    "\n",
    "Ahora esta función podría ser incluída dentro del bucle"
   ]
  },
  {
   "cell_type": "code",
   "execution_count": 2,
   "metadata": {},
   "outputs": [
    {
     "name": "stdout",
     "output_type": "stream",
     "text": [
      "0\n",
      "0\n",
      "0\n",
      "0\n",
      "0\n",
      "0\n",
      "0\n",
      "0\n",
      "0\n",
      "0\n",
      "0\n",
      "0\n",
      "0\n",
      "0\n",
      "0\n"
     ]
    }
   ],
   "source": [
    "def extract_number(some_text):\n",
    "    some_text = some_text.replace(\"\\n\", \"\") # Eliminar el salto de línea\n",
    "    number = int(some_text) # Convertir la fila a entero\n",
    "    return number\n",
    "\n",
    "for row in madison_indiana[0:15]:\n",
    "    print(extract_number(row))"
   ]
  },
  {
   "cell_type": "markdown",
   "metadata": {},
   "source": [
    "Trabajo hecho, ahora solo haría falta incluir los valores en una lista para todos los años."
   ]
  },
  {
   "cell_type": "code",
   "execution_count": 3,
   "metadata": {},
   "outputs": [
    {
     "data": {
      "text/plain": [
       "[0, 0, 0, 0, 0, 0, 0, 0, 0, 0, 0, 0, 0, 0, 0]"
      ]
     },
     "execution_count": 3,
     "metadata": {},
     "output_type": "execute_result"
    }
   ],
   "source": [
    "def extract_number(some_text):\n",
    "    some_text = some_text.replace(\"\\n\", \"\") # Eliminar el salto de línea\n",
    "    number = int(some_text) # Convertir la fila a entero\n",
    "    return number\n",
    "\n",
    "madison_indiana_number = []    # Se crea una lista vacía \n",
    "\n",
    "for row in madison_indiana:\n",
    "    number = extract_number(row)             # Se guarda cada número en una variable\n",
    "    madison_indiana_number.append(number)    # Se agrega la variable a la lista vacía\n",
    "    \n",
    "madison_indiana_number[:15]"
   ]
  },
  {
   "cell_type": "markdown",
   "metadata": {},
   "source": [
    "Al tratarse de una lista acumulativa, el número de infectados se podría conocer así:"
   ]
  },
  {
   "cell_type": "code",
   "execution_count": 4,
   "metadata": {},
   "outputs": [
    {
     "data": {
      "text/plain": [
       "11495"
      ]
     },
     "execution_count": 4,
     "metadata": {},
     "output_type": "execute_result"
    }
   ],
   "source": [
    "max(madison_indiana_number)"
   ]
  },
  {
   "cell_type": "markdown",
   "metadata": {},
   "source": [
    "## Aplicar un bucle for para todo Indiana\n",
    "\n",
    "Hay 94 archivos en la carpeta de Indiana. En caso de no haber bucles for se debería revisar cada uno de los archivos de manera individual, una tarea muy tediosa y repetitiva, lo bueno es que ya sabemos como automatizarla."
   ]
  },
  {
   "cell_type": "markdown",
   "metadata": {},
   "source": [
    "### Ejercicio 1\n",
    "\n",
    "Escriba un bucle `for` para iterar sobre los condados de Indiana en la carpeta `data/confirmed/Indiana` y guarde cada uno en una lista llamada indiana_data"
   ]
  },
  {
   "cell_type": "code",
   "execution_count": 5,
   "metadata": {},
   "outputs": [],
   "source": [
    "import glob # librería para obtener la ruta de todos los archivos de un directorio/carpeta\n",
    "\n",
    "list_of_files = glob.glob(\"data/confirmed/Indiana/*.csv\")\n",
    "\n",
    "indiana_data = []\n",
    "\n",
    "for i in list_of_files:\n",
    "    file = open(i, \"r\")\n",
    "    county = file.readlines()\n",
    "    indiana_data.append(county)\n"
   ]
  },
  {
   "cell_type": "markdown",
   "metadata": {},
   "source": [
    "### Ejercicio 2\n",
    "\n",
    "Ahora que se ha creado la lista con cada uno de los condados, cree otro bucle para extraer los números de cada lista. Almacene los valores en una nueva lista llamada indiana_data_clean"
   ]
  },
  {
   "cell_type": "code",
   "execution_count": 6,
   "metadata": {},
   "outputs": [],
   "source": [
    "indiana_data_clean = []\n",
    "\n",
    "for county in indiana_data:\n",
    "    county_number = []\n",
    "    for row in county:\n",
    "        number = extract_number(row)             # Se guarda cada número en una variable\n",
    "        county_number.append(number)             # Se agrega la variable a la lista vacía\n",
    "    indiana_data_clean.append(county_number)"
   ]
  },
  {
   "cell_type": "markdown",
   "metadata": {},
   "source": [
    "Finalmente, se puede computar el valor máximo de cada condado y almacenarlo para el estado, de esta manera se puede confirmar la cantidad total de casos confirmados"
   ]
  },
  {
   "cell_type": "code",
   "execution_count": 7,
   "metadata": {},
   "outputs": [
    {
     "name": "stdout",
     "output_type": "stream",
     "text": [
      "El total de casos confirmados para Indiana son: 642071.00\n"
     ]
    }
   ],
   "source": [
    "indiana_current = []\n",
    "\n",
    "for county in indiana_data_clean:\n",
    "    curr_case = max(county)\n",
    "    indiana_current.append(curr_case)\n",
    "\n",
    "print(\"El total de casos confirmados para Indiana son: %.2f\"%(sum(indiana_current)))"
   ]
  },
  {
   "cell_type": "markdown",
   "metadata": {},
   "source": [
    "## Demás estados\n",
    "\n",
    "Ahora el reto va a ser realizar la tarea anterior para los demás estados y territorios. Por conveniencia lo mejor sería crear una función"
   ]
  },
  {
   "cell_type": "code",
   "execution_count": 8,
   "metadata": {},
   "outputs": [],
   "source": [
    "def clean_county_data(path):\n",
    "    \"\"\"\n",
    "    Toma la ubicación de un archivo y lo carga en python.\n",
    "    Regresa una lista con los datos limpios\n",
    "    \"\"\"\n",
    "    # Leer el archivo\n",
    "    file = open(path, \"r\")\n",
    "    content = file.readlines()\n",
    "    \n",
    "    # Limpiar los datos y agregar el conteo de casos\n",
    "    county_numbers = []\n",
    "    for row in content:\n",
    "        number = extract_number(row)    # Se aplica la función para extraer números\n",
    "        county_numbers.append(number)\n",
    "        \n",
    "    return county_numbers"
   ]
  },
  {
   "cell_type": "markdown",
   "metadata": {},
   "source": [
    "### Ejercicio 3\n",
    "\n",
    "Construir una lista con el nombre del estado y el total de casos confirmados para la ventana de tiempo estudiada. El resultados esperado debería ser algo similar a:\n",
    "\n",
    "![Desired output](data/images/desired_result.png)"
   ]
  },
  {
   "cell_type": "code",
   "execution_count": 9,
   "metadata": {},
   "outputs": [],
   "source": [
    "import os # Librería para interactuar con el sistema operativo"
   ]
  },
  {
   "cell_type": "code",
   "execution_count": 10,
   "metadata": {},
   "outputs": [],
   "source": [
    "list_of_states = os.listdir(\"data/confirmed\") # acceder al nombre de los archivos almacenados en el directorio (Estados)\n",
    "\n",
    "result = []\n",
    "\n",
    "for state in list_of_states:\n",
    "    list_of_current_numbers = []\n",
    "    list_of_counties = glob.glob(\"data/confirmed/\" + state +\"/*.csv\") # Lista a todas las rutas en para cada Estado (\"Path\")\n",
    "\n",
    "    for county in list_of_counties:                      # Para cada condado dentro de un estado\n",
    "        county_clean = clean_county_data(county)         # Aplicar la función para limpiar los datos\n",
    "        current_number = max(county_clean)               # Se toma el máximo del condado evaluado\n",
    "        list_of_current_numbers.append(current_number)   # Agregar el máximo a la lista de valores actuales\n",
    "    \n",
    "    state_total = sum(list_of_current_numbers)           # Se suman todos los condados (max) para el estado\n",
    "    result.append([state, state_total])                  # Se agrega el total del estado junto a su nombre"
   ]
  },
  {
   "cell_type": "markdown",
   "metadata": {},
   "source": [
    "Con el listado para cada Estado también es posible inferir los valores para el país como un todo"
   ]
  },
  {
   "cell_type": "code",
   "execution_count": 11,
   "metadata": {},
   "outputs": [
    {
     "name": "stdout",
     "output_type": "stream",
     "text": [
      "El total de casos confirmados es: 27224644\n"
     ]
    }
   ],
   "source": [
    "only_totals = []\n",
    "for item in result:\n",
    "    only_totals.append(item[1]) # Se tiene interés solamente en el total, no en el nombre del estado\n",
    "\n",
    "print(\"El total de casos confirmados es: %i\"%(sum(only_totals)))"
   ]
  },
  {
   "cell_type": "markdown",
   "metadata": {},
   "source": [
    "Para guardar el resultado del listado total se crea el archivo `covid_case.txt`. Para esto se usa de nuevo la función `open()` solo que se sustituye `r` por `w` (write)"
   ]
  },
  {
   "cell_type": "code",
   "execution_count": 12,
   "metadata": {},
   "outputs": [],
   "source": [
    "new_file_to_save = open(\"covid_cases.txt\", \"w\")\n",
    "line = \"From Jan 22, 2020 to Feb 9, 2021, the number of cumulative COVID-19 cases in the US was 27,224,664.\"\n",
    "new_file_to_save.write(line)\n",
    "new_file_to_save.close()"
   ]
  },
  {
   "cell_type": "markdown",
   "metadata": {},
   "source": [
    "## Resumen\n",
    "\n",
    "* **Apertura de archivos de texto:** `file = open(\"path/to/the/file\", \"r\")`. Para leer las líneas del archivo y guardarlas en una lista se puede usar: `list_of_lines = file.readlines()`. \n",
    "* **Para bucles for:** El siguiente describe las partes de un bucle\n",
    "\n",
    "![For loops](data/images/for_anatomy.png)\n",
    "\n",
    "* **Poblar una lista vacía de manera iterativa:** Esta tarea frecuente puede ser realizada así: \n",
    "\n",
    "~~~python\n",
    "list_to_populate = []\n",
    "for item in some_sequence:\n",
    "    new_item = some_function(item)\n",
    "    list_to_populate.append(new_item)\n",
    "~~~\n",
    "\n",
    "* **Obtener una lista de todos los archivos y su extensión en un directorio:**\n",
    "\n",
    "~~~Python\n",
    "import gob\n",
    "list_of_files = glob.glob(\"path/to/directory/*.extension\")\n",
    "~~~\n",
    "\n",
    "Dos punto importantes por resaltar. Primero, si no esta familiarizado con el término de **extension**, este es simplemente el texto que viene después del punto en el nombre del archivo. Las extensiones ayudan a diferenciar el tipo de archivo. Por ejemplo, el archivo `hola.xlsx` tiene la extensión `.xlsx` indicando que se trata un archivo de `Excel`. Como segundopunto, la **wildcard** asterísco (*) indica que aplica para todos los archivos o para un valor indeterminado. Por ejemplo, *.txt incluye hola.txt, adios.txt pero no a bye.xlsx\n",
    "\n",
    "* **Lista de subdirectorios en un directorio**\n",
    "~~~Python\n",
    "import os\n",
    "list_of_subfolders = os.listdir(\"path/to/directory\")\n",
    "~~~\n",
    "\n",
    "* **Bucles `for` anidados:** Para anidar un bucle dentro de otro se debe prestar atención a la adecuada indentación. Se indenta dos veces\n",
    "\n",
    "* **Creación de un archivo, escritura de una línea y almacenamiento en disco:** Un ejemplo para esta tarea esta dado por:\n",
    "\n",
    "~~~python\n",
    "new_file_to_save = open(\"path/to/folder/name_of_new_file.txt\", \"w\")\n",
    "line = \"Some text to write\"\n",
    "new_file_to_save.write(line)\n",
    "new_file_to_save.close()\n",
    "~~~"
   ]
  },
  {
   "cell_type": "markdown",
   "metadata": {},
   "source": [
    "## Atribuciones\n",
    "\n",
    "Los datos fueron tomados del sitio  https://github.com/CSSEGISandData/COVID-19. Para información adicional se puede referir a: \"Dong E, Du H, Gardner L. An interactive web-based dashboard to track COVID-19 in real time. Lancet Inf Dis. 20(5):533-534. doi: 10.1016/S1473-3099(20)30120-1\""
   ]
  }
 ],
 "metadata": {
  "kernelspec": {
   "display_name": "Python 3",
   "language": "python",
   "name": "python3"
  },
  "language_info": {
   "codemirror_mode": {
    "name": "ipython",
    "version": 3
   },
   "file_extension": ".py",
   "mimetype": "text/x-python",
   "name": "python",
   "nbconvert_exporter": "python",
   "pygments_lexer": "ipython3",
   "version": "3.8.8"
  }
 },
 "nbformat": 4,
 "nbformat_minor": 4
}
