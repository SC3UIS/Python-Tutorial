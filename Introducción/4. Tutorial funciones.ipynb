{
 "cells": [
  {
   "cell_type": "markdown",
   "metadata": {},
   "source": [
    "## Agregar etiquetas nutricionales a las comidas\n",
    "\n",
    "***Propósito de aprendizaje*** En este caso se aprenderá como crear funciones en python y como ejecutarlas.\n",
    "\n",
    "Para el caso se considera que se esta llevando a cabo un proyecto de investigación para determinar como los fabricantes de alimentos describen sus propiedades nutricionaless. Se han juntado datos acerca de 500 productos de un supermercado local, y se desea etiquetar cada uno de ellos de acuerdo a su densidad calórica y su contenido de azúcar y grasas.\n",
    "\n",
    "Para eso, se desea etiquetar usando como criterio lo que la FDA (Food and Drug Administration) ha establecido para el país\n",
    "\n",
    "| Category \t| Label        \t| Criteria                                     \t|\n",
    "|----------\t|--------------\t|----------------------------------------------\t|\n",
    "| Calories \t| Calorie free \t| Less than 5 calories per serving             \t|\n",
    "| Calories \t| Low calorie  \t| Less than 40 calories per serving            \t|\n",
    "| Fat      \t| Fat free     \t| Less than 0.5 grams of total fat per serving \t|\n",
    "| Fat      \t| Low fat      \t| 3 grams or less of total fat per serving     \t|\n",
    "| Sugar    \t| Sugar free   \t| Less than 0.5 grams of sugar per serving     \t|\n",
    "\n",
    "Fuente: [American Diabetes Association](https://www.diabetes.org/healthy-living/recipes-nutrition/reading-food-labels) y [Institute of Medicine](https://www.ncbi.nlm.nih.gov/books/NBK209851/)."
   ]
  },
  {
   "cell_type": "markdown",
   "metadata": {},
   "source": [
    "## Agregado de etiquetas calóricas\n",
    "\n",
    "Cuando se escriben piezas extensas de código siempre es buena idea particionar las tareas en pequeñas unidad para hacerlo más manejable. Este es el árbol de decisión para las etiquetas calóricas:\n",
    "\n",
    "![Calories tree](data/images/calories_tree.png)\n",
    "\n",
    "Un ejemplo de código que se implementaría para este árbol de decisión e imprimir la etiqueta. Las características se toman de: ([US Department of Agriculture](https://fdc.nal.usda.gov/fdc-app.html#/food-details/362759/nutrients)):\n",
    "\n",
    "~~~python\n",
    "banana = {\n",
    "    \"serving_size\":28, # In grams\n",
    "    \"calories\":94.1, # In Kcal\n",
    "    \"fat\":300, # In milligrams\n",
    "    \"sodium\":1.96, # In milligrams\n",
    "    \"sugar\":16, # In grams\n",
    "    \"fiber\":0.504 # In grams\n",
    "}\n",
    "~~~"
   ]
  },
  {
   "cell_type": "code",
   "execution_count": 3,
   "metadata": {},
   "outputs": [
    {
     "name": "stdout",
     "output_type": "stream",
     "text": [
      "None\n"
     ]
    }
   ],
   "source": [
    "banana = {\n",
    "    \"serving_size\":28,\n",
    "    \"calories\":94.1,\n",
    "    \"fat\":300,\n",
    "    \"sodium\":1.96,\n",
    "    \"sugar\":16,\n",
    "    \"fiber\":0.504\n",
    "}\n",
    "\n",
    "if banana[\"calories\"] < 5:\n",
    "    calories_label = \"CALORIE FREE\"\n",
    "elif banana[\"calories\"] < 40:\n",
    "    calories_label = \"LOW CALORIE\"\n",
    "else:\n",
    "    calories_label = None\n",
    "\n",
    "print(calories_label)"
   ]
  },
  {
   "cell_type": "markdown",
   "metadata": {},
   "source": [
    "Banana no tiene una etiqueta como tal porque tiene muchas calorias, por lo que no califica en `CALORIE FREE` o `LOW CALORIE`. Su etiqueta asignada es `None`."
   ]
  },
  {
   "cell_type": "markdown",
   "metadata": {},
   "source": [
    "### Ejercicio 1\n",
    "\n",
    "Hacer lo mismo para el producto: [Tomate](https://fdc.nal.usda.gov/fdc-app.html#/food-details/1103276/nutrients):\n",
    "\n",
    "~~~python\n",
    "tomato = {\n",
    "    \"serving_size\":125,\n",
    "    \"calories\":22.5,\n",
    "    \"fat\":250,\n",
    "    \"sodium\":6.25,\n",
    "    \"sugar\":3.29,\n",
    "    \"fiber\":1.5\n",
    "}\n",
    "~~~"
   ]
  },
  {
   "cell_type": "markdown",
   "metadata": {
    "tags": [
     "ans_st"
    ]
   },
   "source": [
    "**Respuesta.**"
   ]
  },
  {
   "cell_type": "code",
   "execution_count": 4,
   "metadata": {},
   "outputs": [
    {
     "name": "stdout",
     "output_type": "stream",
     "text": [
      "LOW CALORIE\n"
     ]
    }
   ],
   "source": [
    "tomato = {\n",
    "    \"serving_size\":125,\n",
    "    \"calories\":22.5,\n",
    "    \"fat\":250,\n",
    "    \"sodium\":6.25,\n",
    "    \"sugar\":3.29,\n",
    "    \"fiber\":1.5\n",
    "}\n",
    "\n",
    "if tomato[\"calories\"] < 5:\n",
    "    calories_label = \"CALORIE FREE\"\n",
    "elif tomato[\"calories\"] < 40:\n",
    "    calories_label = \"LOW CALORIE\"\n",
    "else:\n",
    "    calories_label = None\n",
    "\n",
    "print(calories_label)"
   ]
  },
  {
   "cell_type": "markdown",
   "metadata": {},
   "source": [
    "Debido a que un tomate (~125g) tiene más de 5 calorías y menos de 40, entonces es clasificado como `LOW CALORIE`.\n",
    "\n",
    "Esta tarea se ha realizado para dos producto, ahora de pensar en más referencias sería un trabajo repetitivo y tedioso, por lo que es preciso a cudir a estrategias que faciliten estas tareas.\n",
    "\n",
    "Las **funciones** resultan ser un trozo de código que puede ser usado de manera repetitiva con solo algunos ajustes en cualquier momento. Permiten generalizar tareas para aplicarlas en una gran variedad de situaciones. Para el código del ejemplo anterior:\n",
    "\n",
    "~~~python\n",
    "if banana[\"calories\"] < 5:\n",
    "    calories_label = \"CALORIE FREE\"\n",
    "elif banana[\"calories\"] < 40:\n",
    "    calories_label = \"LOW CALORIE\"\n",
    "else:\n",
    "    calories_label = None\n",
    "\n",
    "print(calories_label)\n",
    "~~~\n",
    "\n",
    "Esta tarea se podría generalizar si solo se realizara un cambio en el nombre del producto. Esto es posible con una función, así:"
   ]
  },
  {
   "cell_type": "code",
   "execution_count": 5,
   "metadata": {},
   "outputs": [],
   "source": [
    "# Primera función\n",
    "\n",
    "def assign_calories_label(food):\n",
    "    if food[\"calories\"] < 5: # Se cambia banana por food\n",
    "        calories_label = \"CALORIE FREE\"\n",
    "    elif food[\"calories\"] < 40: # Se cambia banana por food\n",
    "        calories_label = \"LOW CALORIE\"\n",
    "    else:\n",
    "        calories_label = None\n",
    "    print(calories_label)"
   ]
  },
  {
   "cell_type": "markdown",
   "metadata": {},
   "source": [
    "En el código de arriba se puede observar que se ha cambiado la palabra banana por food, de manera que sea más general. Adicionalmente, se ha agregado la línea 'def assign_calories_label(food):' que es donde def declara la función seguida por el nombre que recibirá la función y sus respectivos argumnetos (food).\n",
    "\n",
    "Si esta función se ejecuta no va a regresarnos una salida en pantalla, lo que sucede es que la pieza de código queda almacenada dentro de la función y mostrará los resultados de su aplicación cuando se le pasen los debidos argumentos. Se destaca que el código al interior de la función está indentado"
   ]
  },
  {
   "cell_type": "code",
   "execution_count": 6,
   "metadata": {},
   "outputs": [
    {
     "name": "stdout",
     "output_type": "stream",
     "text": [
      "LOW CALORIE\n"
     ]
    }
   ],
   "source": [
    "assign_calories_label(tomato)"
   ]
  },
  {
   "cell_type": "markdown",
   "metadata": {},
   "source": [
    "### Ejercicio 2\n",
    "\n",
    "Test the `assign_calories_label()` function using `banana` instead."
   ]
  },
  {
   "cell_type": "markdown",
   "metadata": {
    "tags": [
     "ans_st"
    ]
   },
   "source": [
    "**Respuesta**"
   ]
  },
  {
   "cell_type": "code",
   "execution_count": 7,
   "metadata": {},
   "outputs": [
    {
     "name": "stdout",
     "output_type": "stream",
     "text": [
      "None\n"
     ]
    }
   ],
   "source": [
    "assign_calories_label(banana)"
   ]
  },
  {
   "cell_type": "markdown",
   "metadata": {},
   "source": [
    "Las funciones resultan ser útiles para generalizar tareas, sin embargo, quien construye la función es quien la conoce, por lo que es de suma importancia escribir documentación sobre lo que realiza la función, así otros usuarios podrán hacer uso de ella. La documentación se escribe al interior de la función haciendo uso de tres comillas ''', así:"
   ]
  },
  {
   "cell_type": "code",
   "execution_count": 8,
   "metadata": {},
   "outputs": [],
   "source": [
    "def assign_calories_label(food):\n",
    "    \"\"\"\n",
    "    Asigna una etiqueta calórica de acuerdo a las reglas de la FDA\n",
    "    \n",
    "    Arguments:\n",
    "    food: Un diccionario en python que tiene al menos una clave \"calories\"\n",
    "    \n",
    "    Outputs:\n",
    "    Esta función tan solo imprime la etiqueta.\n",
    "    \"\"\"\n",
    "    if food[\"calories\"] < 5:\n",
    "        calories_label = \"CALORIE FREE\"\n",
    "    elif food[\"calories\"] < 40:\n",
    "        calories_label = \"LOW CALORIE\"\n",
    "    else:\n",
    "        calories_label = None\n",
    "    print(calories_label)\n",
    "    return calories_label"
   ]
  },
  {
   "cell_type": "markdown",
   "metadata": {},
   "source": [
    "### Ejercicio 3\n",
    "\n",
    "¿Que sucede si se corre la línea:`help(assign_calories_label)`?"
   ]
  },
  {
   "cell_type": "markdown",
   "metadata": {
    "tags": [
     "ans_st"
    ]
   },
   "source": [
    "**Respuesta**"
   ]
  },
  {
   "cell_type": "code",
   "execution_count": 9,
   "metadata": {},
   "outputs": [
    {
     "name": "stdout",
     "output_type": "stream",
     "text": [
      "Help on function assign_calories_label in module __main__:\n",
      "\n",
      "assign_calories_label(food)\n",
      "    Asigna una etiqueta calórica de acuerdo a las reglas de la FDA\n",
      "    \n",
      "    Arguments:\n",
      "    food: Un diccionario en python que tiene al menos una clave \"calories\"\n",
      "    \n",
      "    Outputs:\n",
      "    Esta función tan solo imprime la etiqueta.\n",
      "\n"
     ]
    }
   ],
   "source": [
    "help(assign_calories_label)"
   ]
  },
  {
   "cell_type": "markdown",
   "metadata": {},
   "source": [
    "La función completa aplicada a bananas y tomato y sus salidas son: "
   ]
  },
  {
   "cell_type": "code",
   "execution_count": 10,
   "metadata": {},
   "outputs": [
    {
     "name": "stdout",
     "output_type": "stream",
     "text": [
      "LOW CALORIE\n",
      "None\n"
     ]
    }
   ],
   "source": [
    "tomato_calorie_label = assign_calories_label(tomato)\n",
    "banana_calorie_label = assign_calories_label(banana)"
   ]
  },
  {
   "cell_type": "code",
   "execution_count": 11,
   "metadata": {},
   "outputs": [
    {
     "name": "stdout",
     "output_type": "stream",
     "text": [
      "La etiqueta para tomate es:  LOW CALORIE\n",
      "Y la etiqueta para banana es:  None\n"
     ]
    }
   ],
   "source": [
    "print(\"La etiqueta para tomate es: \", tomato_calorie_label)\n",
    "print(\"Y la etiqueta para banana es: \", banana_calorie_label)"
   ]
  },
  {
   "cell_type": "markdown",
   "metadata": {},
   "source": [
    "Este diagrama resume las diferentes partes de una función definida por el usuario en Python\n",
    "\n",
    "![Def](data/images/def_anatomy.png)"
   ]
  },
  {
   "cell_type": "markdown",
   "metadata": {},
   "source": [
    "## Agregar etiquetas para grasas\n",
    "\n",
    "Ahora que ya se cuenta con una función para etiquetal las calorías se hará lo mismo para el contenido de grasas. Este es el árbol de decisión\n",
    "\n",
    "![Fat decision tree](data/images/fat_tree.png)"
   ]
  },
  {
   "cell_type": "markdown",
   "metadata": {},
   "source": [
    "### Ejercicio 4\n",
    "\n",
    "Crear la función `assign_fat_label()` para implentar el árbol de decisión "
   ]
  },
  {
   "cell_type": "markdown",
   "metadata": {
    "tags": [
     "ans_st"
    ]
   },
   "source": [
    "**Respuesta**"
   ]
  },
  {
   "cell_type": "code",
   "execution_count": 12,
   "metadata": {},
   "outputs": [],
   "source": [
    "def assign_fat_label(food):\n",
    "    \"\"\"\n",
    "    Asigna una etiqueta de grasa de acuerdo a las reglas de la FDA\n",
    "    \n",
    "    Arguments:\n",
    "    food: Un diccionario en python que tiene al menos una clave \"fat\"\n",
    "    \n",
    "    Outputs:\n",
    "    Esta función tan solo imprime la etiqueta.\n",
    "    \"\"\"\n",
    "    \n",
    "    if food[\"fat\"] < 0.5:\n",
    "        fat_label = \"FAT FREE\"\n",
    "    elif food[\"fat\"] < 3:\n",
    "        fat_label = \"LOW FAT\"\n",
    "    else:\n",
    "        fat_label = None\n",
    "    return fat_label"
   ]
  },
  {
   "cell_type": "markdown",
   "metadata": {},
   "source": [
    "Probando esta función con `tomato` tendría como salida:"
   ]
  },
  {
   "cell_type": "code",
   "execution_count": 13,
   "metadata": {},
   "outputs": [
    {
     "name": "stdout",
     "output_type": "stream",
     "text": [
      "None\n"
     ]
    }
   ],
   "source": [
    "print(assign_fat_label(tomato))"
   ]
  },
  {
   "cell_type": "markdown",
   "metadata": {},
   "source": [
    "Sorpresivamente el tomate no tiene etiqueta, se esperaba que fuera `FAT FREE`. ¿Que pasó?"
   ]
  },
  {
   "cell_type": "code",
   "execution_count": 14,
   "metadata": {},
   "outputs": [
    {
     "data": {
      "text/plain": [
       "{'serving_size': 125,\n",
       " 'calories': 22.5,\n",
       " 'fat': 250,\n",
       " 'sodium': 6.25,\n",
       " 'sugar': 3.29,\n",
       " 'fiber': 1.5}"
      ]
     },
     "execution_count": 14,
     "metadata": {},
     "output_type": "execute_result"
    }
   ],
   "source": [
    "tomato"
   ]
  },
  {
   "cell_type": "markdown",
   "metadata": {},
   "source": [
    "Al parecer el problema está en las unidades. Si en promedio un tomate pesa 125 gr, no es posible que tenga 250 gramos de grasa, más bien deben ser miligramos. La modificación de unidades pueder ser incluida fácilmente dentro de la función previamente definida"
   ]
  },
  {
   "cell_type": "markdown",
   "metadata": {},
   "source": [
    "### Ejercicio 5\n",
    "\n",
    "Modificar la función `assign_fat_label()` para convertir los miligramos a gramos"
   ]
  },
  {
   "cell_type": "markdown",
   "metadata": {
    "tags": [
     "ans_st"
    ]
   },
   "source": [
    "**Respuesta.**"
   ]
  },
  {
   "cell_type": "code",
   "execution_count": 15,
   "metadata": {},
   "outputs": [],
   "source": [
    "def assign_fat_label(food):\n",
    "    \"\"\"\n",
    "    Asigna una etiqueta de grasa de acuerdo a las reglas de la FDA\n",
    "    \n",
    "    Argumentos:\n",
    "    food: Un diccionario en python que tiene al menos una clave \"fat\"\n",
    "    El valor de 'fat' debe estar en miligramos\n",
    "    \n",
    "    Outputs:\n",
    "    Esta función tan solo imprime la etiqueta.\n",
    "    \"\"\"\n",
    "    \n",
    "    if food[\"fat\"] / 1000 < 0.5:\n",
    "            fat_label = \"FAT FREE\"\n",
    "    elif food[\"fat\"] / 1000 < 3:\n",
    "        fat_label = \"LOW FAT\"\n",
    "    else:\n",
    "        fat_label = None\n",
    "    return fat_label"
   ]
  },
  {
   "cell_type": "markdown",
   "metadata": {},
   "source": [
    "Probando la función modificada:"
   ]
  },
  {
   "cell_type": "code",
   "execution_count": 16,
   "metadata": {},
   "outputs": [
    {
     "name": "stdout",
     "output_type": "stream",
     "text": [
      "FAT FREE\n"
     ]
    }
   ],
   "source": [
    "print(assign_fat_label(tomato))"
   ]
  },
  {
   "cell_type": "markdown",
   "metadata": {},
   "source": [
    "## Agregar etiquetas al azúcar\n",
    "\n",
    "Para el azúcar, la tarea es más sencilla. Si hay menos de 0.5 gr de azúcar se dice que es `SUGAR FREE`, de lo contrario no se le asigna etiqueta."
   ]
  },
  {
   "cell_type": "code",
   "execution_count": 17,
   "metadata": {},
   "outputs": [],
   "source": [
    "def assign_sugar_label(food):\n",
    "    \"\"\"\n",
    "    Asigna una etiqueta de azúcar de acuerdo a las reglas de la FDA\n",
    "    \n",
    "    Argumentos:\n",
    "    food: Un diccionario en python que tiene al menos una clave \"sugar\"\n",
    "    \n",
    "    Outputs:\n",
    "    Esta función tan solo imprime la etiqueta.\n",
    "    \"\"\"\n",
    "    \n",
    "    if food[\"sugar\"] < 0.5:\n",
    "        sugar_label = \"SUGAR FREE\"\n",
    "    else:\n",
    "        sugar_label = None\n",
    "    return sugar_label"
   ]
  },
  {
   "cell_type": "markdown",
   "metadata": {},
   "source": [
    "Para evidenciar que nuestra función trabaja de manera correcta se hace la prueba con banana, que claramente no es libre de azúcar"
   ]
  },
  {
   "cell_type": "code",
   "execution_count": 18,
   "metadata": {},
   "outputs": [
    {
     "name": "stdout",
     "output_type": "stream",
     "text": [
      "None\n"
     ]
    }
   ],
   "source": [
    "print(assign_sugar_label(banana))"
   ]
  },
  {
   "cell_type": "markdown",
   "metadata": {},
   "source": [
    "## Juntar todo\n",
    "\n",
    "### Ejercicio 6\n",
    "\n",
    "Piense en una estrategia para incluir esas tres funciones en una sola evitando escribir código redundante. No escriba nuevo código, utilice las funciones ya creadas"
   ]
  },
  {
   "cell_type": "markdown",
   "metadata": {
    "tags": [
     "ans_st"
    ]
   },
   "source": [
    "**Respuesta.**"
   ]
  },
  {
   "cell_type": "code",
   "execution_count": 20,
   "metadata": {},
   "outputs": [],
   "source": [
    "def assign_fda_labels(food):\n",
    "    \"\"\"\n",
    "    \n",
    "    Asigna etiquetas según la FDA para calorías, grasa y azúcar\n",
    "    \n",
    "    Argumentos:\n",
    "    food: Un diccionario en python que tiene al menos una clave \"sugar\", \"calories\" and \"fat\".\n",
    "    \n",
    "    Output:\n",
    "    Esta función tan solo imprime la etiqueta.\n",
    "    \"\"\"\n",
    "    \n",
    "    calories_label = assign_calories_label(food)\n",
    "    fat_label = assign_fat_label(food)\n",
    "    sugar_label = assign_sugar_label(food)\n",
    "    \n",
    "    labels = [calories_label, fat_label, sugar_label]\n",
    "    return labels"
   ]
  },
  {
   "cell_type": "markdown",
   "metadata": {},
   "source": [
    "## Funciones anónimas\n",
    "\n",
    "Por lo general se tienen funciones que no serán utilizadas solo una vez, por lo que se desearía no definirla sino darle un único uso. Para este caso existen funciones anónimas que tan solo sustituyen  el \"`def`\" por **`lambda`** y no es necesario darle nombre a la función, al fin y al cabo solo se utilizará una vez.\n",
    "\n",
    "~~~python\n",
    "lambda mi_input: <Hacer algo con mi_input> # Se puede poner más de un input separados por coma\n",
    "~~~\n",
    "\n",
    "Entonces, para evaluar la función, usamos:\n",
    "\n",
    "~~~python\n",
    "(lambda mi_input: <Hacer algo con mi_input>)(Input actual)\n",
    "~~~\n",
    "\n",
    "La versión anónima de nuestra función `assign_fda_labels(food)` podría ser:\n",
    "\n",
    "~~~python\n",
    "lambda food: [assign_calories_label(food), assign_fat_label(food), assign_sugar_label(food)]\n",
    "~~~"
   ]
  },
  {
   "cell_type": "code",
   "execution_count": 19,
   "metadata": {},
   "outputs": [
    {
     "name": "stdout",
     "output_type": "stream",
     "text": [
      "None\n"
     ]
    },
    {
     "data": {
      "text/plain": [
       "[None, 'FAT FREE', None]"
      ]
     },
     "execution_count": 19,
     "metadata": {},
     "output_type": "execute_result"
    }
   ],
   "source": [
    "(lambda food: [assign_calories_label(food), assign_fat_label(food), assign_sugar_label(food)])(banana)"
   ]
  }
 ],
 "metadata": {
  "kernelspec": {
   "display_name": "Python 3",
   "language": "python",
   "name": "python3"
  },
  "language_info": {
   "codemirror_mode": {
    "name": "ipython",
    "version": 3
   },
   "file_extension": ".py",
   "mimetype": "text/x-python",
   "name": "python",
   "nbconvert_exporter": "python",
   "pygments_lexer": "ipython3",
   "version": "3.8.8"
  }
 },
 "nbformat": 4,
 "nbformat_minor": 2
}
