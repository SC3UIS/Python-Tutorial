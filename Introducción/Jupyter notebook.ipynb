{
 "cells": [
  {
   "cell_type": "markdown",
   "metadata": {},
   "source": [
    "# Introducción a los cuadernos de trabajo en jupyter (notebook)"
   ]
  },
  {
   "cell_type": "markdown",
   "metadata": {},
   "source": [
    "### [1. ¿Que son los cuadernos de Jupyter?](#Cap1)\n",
    "### [2. ¿Como acceder a ellos?](#Cap2)\n",
    "### [3. Como instalar kernels diferentes a Python](#Cap3)\n",
    "### [4. Descargar y compartir cuadernos de trabajo](#Cap4)"
   ]
  },
  {
   "cell_type": "markdown",
   "metadata": {},
   "source": [
    "## 1. ¿Que son los cuadernos de Jupyter?<a class=\"anchor\" id=\"Cap1\"></a>"
   ]
  },
  {
   "cell_type": "markdown",
   "metadata": {},
   "source": [
    "### Imágenes"
   ]
  },
  {
   "cell_type": "markdown",
   "metadata": {},
   "source": [
    "Para visualizar una imágen se usa la sintaxis: \n",
    "\n",
    "![nombre alternativo](dirección de la imagen)\n",
    "\n",
    "< img src=\"dirección de la imagen\" style=\"width: 400px;\"/>"
   ]
  },
  {
   "cell_type": "markdown",
   "metadata": {},
   "source": [
    "<img src=\"data/images/imagen.jpg\" style=\"width: 300px;\"/>"
   ]
  },
  {
   "cell_type": "markdown",
   "metadata": {},
   "source": [
    "### Celdas de tipo markdown"
   ]
  },
  {
   "cell_type": "markdown",
   "metadata": {},
   "source": [
    "Una de las ventajas de los cuadernos es la posibilidad de complementar el código de programación con líneas de texto para comentar o soportar algunas líneas de código utilizadas. La escritura se hace mediante celdas tipo markdown, el cuál es un subconjunto del lenguaje HTML, por lo que este también puede ser incluido.\n",
    "\n",
    "A continuación se citan algunos ejemplos"
   ]
  },
  {
   "cell_type": "markdown",
   "metadata": {},
   "source": [
    "| Esto | es   |\n",
    "|------|------|\n",
    "|   una  | tabla|"
   ]
  },
  {
   "cell_type": "markdown",
   "metadata": {},
   "source": [
    "Cursiva: *Colombia* <em>Colombia</em>\n",
    "\n",
    "Negrita: **Colombia** <b>Colombia</b>\n",
    "\n",
    "Listas:\n",
    "* Listas\n",
    "\n",
    "1. Enumeradas\n",
    "    1. Sub-listas"
   ]
  },
  {
   "cell_type": "markdown",
   "metadata": {},
   "source": [
    "Igualmente es posible insertar [enlaces](https://jupyter.org/) en el cuerpo del texto o celdas"
   ]
  },
  {
   "cell_type": "markdown",
   "metadata": {},
   "source": [
    "### Gráficos interactivos y ecuaciones matemáticas"
   ]
  },
  {
   "cell_type": "markdown",
   "metadata": {},
   "source": [
    "Gracias a la biblioteca MathJax es posible visualizar expresiones matemáticas escritas en **Latex**. Adicionalmente, facilmente se puede visualizar de manera interactiva la función. Un ejemplo es:\n",
    "\n",
    "$$ f(x) = ax^3 + bx^2 + cx + d $$"
   ]
  },
  {
   "cell_type": "code",
   "execution_count": 1,
   "metadata": {},
   "outputs": [],
   "source": [
    "import numpy as np\n",
    "import matplotlib.pyplot as plt\n",
    "from ipywidgets import interact"
   ]
  },
  {
   "cell_type": "code",
   "execution_count": 2,
   "metadata": {},
   "outputs": [
    {
     "data": {
      "application/vnd.jupyter.widget-view+json": {
       "model_id": "081cad58920648b2bb9aa762c6c31f7f",
       "version_major": 2,
       "version_minor": 0
      },
      "text/plain": [
       "interactive(children=(IntSlider(value=0, description='a', max=10, min=-10), IntSlider(value=0, description='b'…"
      ]
     },
     "metadata": {},
     "output_type": "display_data"
    },
    {
     "data": {
      "text/plain": [
       "<function __main__.func(a, b, c, d, **kwargs)>"
      ]
     },
     "execution_count": 2,
     "metadata": {},
     "output_type": "execute_result"
    }
   ],
   "source": [
    "def func(a,b,c,d,**kwargs):\n",
    "    \"\"\"\n",
    "    Gráficar la función seno variando la frecuencia    \n",
    "    \"\"\"\n",
    "    x = np.linspace(-10,10,100)\n",
    "    y = a*x**3 + b*x**2 + c*x + d\n",
    "    \n",
    "    plt.plot(x,y,**kwargs)\n",
    "    plt.show()\n",
    "    \n",
    "interact(func, a=(-10,10),\n",
    "               b=(-10,10),\n",
    "               c=(-10,10),\n",
    "               d=(-20,20),\n",
    "               color=[\"red\",\"blue\"],\n",
    "               linestyle=[\"--\",\"-.\",\"-\"]) # Se definen los parámetros de las funciones a graficar"
   ]
  },
  {
   "cell_type": "markdown",
   "metadata": {},
   "source": [
    "## 2. ¿Como acceder a ellos?<a class=\"anchor\" id=\"Cap1\"></a>"
   ]
  },
  {
   "cell_type": "markdown",
   "metadata": {},
   "source": [
    "## 3. Como instalar kernels diferentes a Python<a class=\"anchor\" id=\"Cap1\"></a>"
   ]
  },
  {
   "cell_type": "markdown",
   "metadata": {},
   "source": [
    "## 4. Descargar y compartir cuadernos de trabajo<a class=\"anchor\" id=\"Cap1\"></a>"
   ]
  },
  {
   "cell_type": "markdown",
   "metadata": {},
   "source": [
    "Acceder a otros cuadernos de trabajo\n",
    "<!--Comentarios, es así como se navega en otros cuadernos-->\n",
    "[Tutorial listas](1.Tutorial_listas.ipynb)"
   ]
  }
 ],
 "metadata": {
  "kernelspec": {
   "display_name": "Python 3",
   "language": "python",
   "name": "python3"
  },
  "language_info": {
   "codemirror_mode": {
    "name": "ipython",
    "version": 3
   },
   "file_extension": ".py",
   "mimetype": "text/x-python",
   "name": "python",
   "nbconvert_exporter": "python",
   "pygments_lexer": "ipython3",
   "version": "3.8.8"
  }
 },
 "nbformat": 4,
 "nbformat_minor": 4
}
